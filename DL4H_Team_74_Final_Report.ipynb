{
 "cells": [
  {
   "cell_type": "markdown",
   "metadata": {
    "id": "FgTKlm-o7LP9"
   },
   "source": [
    "# **CS 598 Deep Learning for Healthcare Final Project**\n",
    "\n",
    "# **Domain Knowledge Guided Deep Learning with Electronic Health Records**\n",
    "\n",
    "\n",
    "\n",
    "Team ID: 74\n",
    "\n",
    "Paper ID: 69\n",
    "\n",
    "\n",
    "---\n",
    "\n",
    "\n",
    "Byunggeun BK Park (bpark14@illinois.edu)\n",
    "\n",
    "Spencer Arbour (sarbour2@illinois.edu)\n",
    "\n",
    "Yun Gao (yungao3@illinois.edu)\n"
   ]
  },
  {
   "cell_type": "markdown",
   "metadata": {
    "id": "MQ0sNuMePBXx"
   },
   "source": [
    "# Introduction\n",
    "\n",
    "Please find our public repository at: https://drive.google.com/drive/folders/1SOuU9TfnHdI9R6mxhpTNvlaZ61zbgn5p?usp=sharing\n",
    "\n",
    "Public Github repository: https://github.com/BK1147/CS598_DLH_Final_Project.git\n",
    "\n",
    "Youtube or GDrive: https://drive.google.com/drive/folders/1SOuU9TfnHdI9R6mxhpTNvlaZ61zbgn5p?usp=sharing\n",
    "\n",
    "\n",
    "\n",
    "\n",
    "---\n",
    "\n",
    "\n",
    "\n",
    "In the realm of healthcare, the utilization of Electronic Health Records (EHRs) for predictive analytics stands as a beacon of opportunity for enhancing patient care and resource allocation. However, the complexity inherent in EHR data, characterized by its high dimensionality, sparsity, and irregularity, poses formidable challenges to accurate prediction of clinical outcomes. Addressing these challenges is paramount for unlocking the full potential of EHRs in revolutionizing healthcare practices.\n",
    "\n",
    "This paper presents a pioneering solution to the intricate problem of clinical risk prediction using EHRs: the Domain Knowledge Guided Recurrent Neural Networks (DG-RNN). By seamlessly integrating rich medical knowledge into the predictive modeling process, DG-RNN transcends the limitations of conventional approaches, offering unprecedented accuracy, interpretability, and adaptability in clinical risk assessment.\n",
    "\n",
    "The cornerstone of DG-RNN lies in its innovative architecture, which harnesses the power of deep learning alongside domain-specific medical insights. Through a Graph-Based Attention Mechanism, the model dynamically incorporates complex relationships between medical events, treatments, and outcomes, enriching the predictive process with invaluable contextual information. Furthermore, a Global Max-Pooling Layer enhances interpretability by spotlighting the most influential medical events contributing to each prediction, thereby bridging the gap between data-driven predictions and clinical intuition.\n",
    "\n",
    "Key to the efficacy of DG-RNN is its adept handling of the idiosyncrasies of EHR data. By encoding temporal irregularities and leveraging advanced attention mechanisms, the model navigates the sparsity and irregularity of patient records with finesse, ensuring robust performance across diverse datasets and prediction tasks.\n",
    "\n",
    "Through rigorous evaluation on real-world EHR datasets, particularly focusing on heart failure risk prediction, DG-RNN showcases its superiority over traditional methods and contemporary deep learning approaches. Not only does it excel in accuracy, but it also stands out for its interpretability, aligning seamlessly with clinical insights and facilitating informed decision-making by healthcare practitioners.\n",
    "\n",
    "\n",
    "---\n",
    "\n"
   ]
  },
  {
   "cell_type": "markdown",
   "metadata": {
    "id": "uygL9tTPSVHB"
   },
   "source": [
    "# Scope of Reproducibility\n",
    "\n",
    "The original paper introduces the Domain Knowledge Guided Recurrent Neural Networks (DG-RNN), a model that incorporates complex medical knowledge directly into the predictive modeling process using a recurrent neural network architecture. This model is equipped with a graph-based attention mechanism and a global max-pooling layer, designed to enhance predictive accuracy and interpretability for clinical outcomes. The study investigates four variations of the RNN model:\n",
    "\n",
    "1. RNN without additional layers\n",
    "2. RNN with reversed input layer\n",
    "3. RNN with global max-pooling\n",
    "4. RNN with global max-pooling + reversed input layer\n",
    "\n",
    "These models are evaluated against traditional machine learning methods such as Random Forest, Logistic Regression, and Support Vector Machine, as well as advanced deep learning models including GRU, LSTM, and RETAIN. Additionally, for the ablation study, we include a naive bi-directional RNN model with an additional reversed input layer to compare with other models.\n",
    "\n",
    "Due to the incomplete availability of the original implementation files and resources, we plan to recreate the high-level concepts and methodologies presented in the original paper. Our experimental setup will use the MIMIC-IV dataset to validate the effectiveness and reproducibility of the proposed methods.\n",
    "\n",
    "#### Hypotheses to be Tested\n",
    "\n",
    "- **Hypothesis 1**: The basic RNN model will outperform traditional machine learning methods (Random Forest, Logistic Regression, Support Vector Machine) in predicting patient risk. This is expected due to the RNN's ability to effectively capture temporal dependencies and sequential patterns in EHR data, which are critical for accurate clinical risk prediction.\n",
    "\n",
    "- **Hypothesis 2**: An RNN model enhanced with reversed input layer and a global max-pooling layer will exhibit superior performance compared to a basic RNN configuration. The reversed input layer is anticipated to improve the model’s ability to dynamically incorporate relevant medical knowledge, while the global max-pooling layer should help in capturing the most salient features from the input sequences, thus enhancing predictive accuracy and model generalization.\n",
    "\n",
    "By testing these hypotheses, we aim to assess the reproducibility of the original paper's claims and explore the practical benefits of advanced RNN architectures in clinical risk prediction using MIMIC-IV data. Through this process, we also plan to identify any potential challenges and limitations in replicating the study’s results, which will contribute valuable insights for future research in the field of healthcare analytics.\n",
    "\n",
    "\n",
    "\n",
    "\n"
   ]
  },
  {
   "cell_type": "markdown",
   "metadata": {
    "id": "xWAHJ_1CdtaA"
   },
   "source": [
    "# Methodology\n"
   ]
  },
  {
   "cell_type": "markdown",
   "metadata": {
    "id": "P61bNweuMbw8"
   },
   "source": [
    "## Environment\n",
    "\n",
    "Python version\n",
    "*  Python 3.11\n",
    "    \n",
    "Dependencies/packages needed\n",
    "*  Refer to requirements.txt file\n",
    "\n",
    "\n"
   ]
  },
  {
   "cell_type": "markdown",
   "metadata": {
    "id": "2NbPHUTMbkD3"
   },
   "source": [
    "##  Data\n",
    "\n",
    "### Data download instruction\n",
    "*  An encrypted version of the electronic health records (EHRs) used for running our model have been include `enc_hfs_dataset_pkl`.\n",
    "*  A secret key can be found in <a href=\"https://drive.google.com/drive/folders/1GuJjVOCeXADcaQ6eqSlMZsx9IGR8UFxn?usp=share_link\">this</a> privately shared Google Drive folder. Save this file to the root directory for this project as `secret.key`.\n",
    "*  Alternatively, create a text file using Vim (or similar) to copy/paste the key provided, saving the file as `secret.key` in the root directory.\n",
    "\n",
    "\n",
    "### Original Data Description:\n",
    "The MIMIC IV dataset (version 2.2) originates from the comprehensive electronic health records (EHRs) at PhysioNet and includes a wide range of patient data collected for health research purposes. This dataset focuses specifically on patient information from the 'hosp' table, selectively filtered to include only ICD-9 diagnostic codes.\n",
    "\n",
    "#### Data Source and Version:\n",
    "- **Source**: PhysioNet\n",
    "- **Dataset Version**: MIMIC IV 2.2\n",
    "\n",
    "#### Data Selection and Preprocessing:\n",
    "- **Filtering Criteria**:\n",
    "  - Only entries with ICD-9 codes were retained to focus on diagnosable medical conditions.\n",
    "- **Preprocessing Details**:\n",
    "  - For comprehensive preprocessing steps including data cleaning and selection criteria, refer to the `Data_Preprocess.ipynb` notebook.\n",
    "\n",
    "#### Purpose of the Dataset:\n",
    "The dataset is primarily used for analyzing patient health trends and outcomes based on historical EHR data, with a specific emphasis on diagnosable conditions recorded through ICD-9 codes.\n",
    "\n",
    "#### Data Access and Usage:\n",
    "Researchers interested in detailed preprocessing steps, data filtering criteria, or specific analyses performed on this dataset should refer to the `Data_Preprocess.ipynb` notebook. This ensures a thorough understanding of the methods applied to the original data and supports reproducibility and transparency in health data research.\n",
    "\n",
    "---\n",
    "\n",
    "### After Filter Description:\n",
    "The dataset now contains patient visit records along with heart failure diagnosis information. Each patient is represented by a sequence of visits, where each visit includes relevant medical data and diagnostic information. The dataset aims to capture patterns and trends in patient visits leading up to the diagnosis of heart failure.\n",
    "\n",
    "#### Data Fields:\n",
    "1. **Visit Sequences (`seqs`)**:\n",
    "   - A list of lists representing the sequences of patient visits.\n",
    "   - Each outer list corresponds to a patient.\n",
    "   - Each inner list represents the visits for a particular patient, encoded using ICD9 codes.\n",
    "   \n",
    "2. **Heart Failure Diagnosis (`hfs`)**:\n",
    "   - A list of binary labels indicating heart failure diagnosis for each patient.\n",
    "   - Each label corresponds to a patient in the dataset.\n",
    "   - Value 1 indicates that heart failure was diagnosed at some point in the patient's medical history.\n",
    "   - Value 0 indicates no heart failure diagnosis.\n",
    "\n",
    "#### Data Structure:\n",
    "- **Visit Sequences**:\n",
    "  - Each patient's visit sequence may vary in length, depending on their medical history.\n",
    "  - The sequence may contain a variable number of visits, ranging from zero to multiple visits per patient.\n",
    "  - Visits are encoded using ICD9 codes, providing detailed medical information, including diagnosis codes and procedures.\n",
    "\n",
    "- **Heart Failure Diagnosis**:\n",
    "  - The heart failure diagnosis label is binary, indicating whether heart failure was diagnosed for each patient.\n",
    "  - A value of 1 signifies that heart failure was diagnosed for the corresponding patient, while a value of 0 indicates no heart failure diagnosis.\n",
    "\n",
    "#### Visualizations:\n",
    "- **Distribution of Diagnosis Counts per Visit**:\n",
    "  - A histogram showing the number of diagnoses recorded per visit, highlighting the complexity of medical conditions managed during each patient encounter.\n",
    "\n",
    "- **Frequency of Heart Failure Cases**:\n",
    "  - A bar chart illustrating the proportion of patients diagnosed with heart failure versus those not diagnosed, facilitating a quick visual assessment of the prevalence within the dataset.\n",
    "\n",
    "- **Visit Frequency per Patient**:\n",
    "  - A plot displaying the number of visits per patient, which helps in understanding patient engagement and utilization of healthcare resources over time.\n",
    "\n",
    "#### Data Analysis and Insights:\n",
    "- These visualizations enable a deeper understanding of the data, particularly in terms of the frequency and distribution of heart failure diagnoses and the overall visit patterns. They assist in identifying potential trends and areas for further research or intervention.\n",
    "---\n",
    "\n",
    "This combined description outlines the dataset’s origin, the modifications made, and the enhanced possibilities for analysis and application post-processing. If you need further adjustments or additional details, let me know!"
   ]
  },
  {
   "cell_type": "code",
   "execution_count": 1,
   "metadata": {
    "id": "GAAIqkV9Mvja"
   },
   "outputs": [],
   "source": [
    "import os\n",
    "import sys\n",
    "import pickle\n",
    "import random\n",
    "import numpy as np\n",
    "import pandas as pd\n",
    "import csv\n",
    "import torch\n",
    "import torch.nn as nn\n",
    "import torch.nn.functional as F\n",
    "import random\n",
    "\n",
    "# set seed\n",
    "seed = 24\n",
    "random.seed(seed)\n",
    "np.random.seed(seed)\n",
    "torch.manual_seed(seed)\n",
    "os.environ[\"PYTHONHASHSEED\"] = str(seed)\n",
    "\n",
    "# ensure data path exists in directory\n",
    "DATA_PATH = 'data/'\n",
    "DATA_PATH_PICKLE = 'data/'\n",
    "os.makedirs(os.path.dirname(DATA_PATH), exist_ok=True)"
   ]
  },
  {
   "cell_type": "code",
   "execution_count": 2,
   "metadata": {},
   "outputs": [],
   "source": [
    "# Cleans up file structure from previous runs (if any)\n",
    "dir = DATA_PATH\n",
    "\n",
    "for file in os.listdir(dir):\n",
    "    file_path = os.path.join(dir, file)\n",
    "    os.remove(file_path)\n",
    "\n",
    "if os.path.isfile('enc_diagnoses'):\n",
    "    os.remove('enc_diagnoses')"
   ]
  },
  {
   "cell_type": "markdown",
   "metadata": {},
   "source": [
    "##### Unencrypt `enc_hfs_dataset_pkl` and store in `data` directory"
   ]
  },
  {
   "cell_type": "code",
   "execution_count": 3,
   "metadata": {},
   "outputs": [],
   "source": [
    "from cryptography.fernet import Fernet\n",
    "\n",
    "with open('secret.key', 'rb') as mykey:\n",
    "    key = mykey.read()\n",
    "\n",
    "f = Fernet(key)\n",
    "\n",
    "with open('enc_hfs_dataset_pkl', 'rb') as encrypted_file:\n",
    "    encrypted = encrypted_file.read()\n",
    "\n",
    "decrypted = f.decrypt(encrypted)\n",
    "\n",
    "with open(os.path.join(DATA_PATH,'hfs_dataset_pkl.zip'), 'wb') as decrypted_file:\n",
    "    decrypted_file.write(decrypted)"
   ]
  },
  {
   "cell_type": "code",
   "execution_count": 4,
   "metadata": {},
   "outputs": [],
   "source": [
    "# Unzip pickle files and store in /data directory\n",
    "import shutil\n",
    "import pathlib\n",
    "\n",
    "shutil.unpack_archive(os.path.join(DATA_PATH,'hfs_dataset_pkl.zip'), os.path.join(DATA_PATH,'hfs_pickle_files/'), format='zip')\n",
    "\n",
    "dir = os.path.join(DATA_PATH, 'hfs_pickle_files/')\n",
    "\n",
    "for file in os.listdir(dir):\n",
    "    file_path = os.path.join(dir, file)\n",
    "    shutil.move(file_path, DATA_PATH)\n",
    "\n",
    "zip_file_path = pathlib.Path(os.path.join(DATA_PATH, 'hfs_dataset_pkl.zip'))\n",
    "zip_file_path.unlink()\n",
    "\n",
    "extracted_dir_path = pathlib.Path(os.path.join(DATA_PATH, 'hfs_pickle_files'))\n",
    "extracted_dir_path.rmdir()\n",
    "# pathlib.Path.unlink(os.path.join(DATA_PATH, 'hfs_dataset_pkl.zip'))\n",
    "# pathlib.Path.rmdir(os.path.join(DATA_PATH, 'hfs_pickle_files'))"
   ]
  },
  {
   "cell_type": "code",
   "execution_count": 5,
   "metadata": {
    "id": "iaP-KPzpDnYE"
   },
   "outputs": [],
   "source": [
    "# comment for the each data\n",
    "pids = pickle.load(open(os.path.join(DATA_PATH_PICKLE,'pids.pickle'), 'rb'))\n",
    "vids = pickle.load(open(os.path.join(DATA_PATH_PICKLE,'vids.pickle'), 'rb'))\n",
    "hfs = pickle.load(open(os.path.join(DATA_PATH_PICKLE,'hfs.pickle'), 'rb'))\n",
    "seqs = pickle.load(open(os.path.join(DATA_PATH_PICKLE,'seqs.pickle'), 'rb'))\n",
    "types = pickle.load(open(os.path.join(DATA_PATH_PICKLE,'types.pickle'), 'rb'))\n",
    "rtypes = pickle.load(open(os.path.join(DATA_PATH_PICKLE,'rtypes.pickle'), 'rb'))"
   ]
  },
  {
   "cell_type": "code",
   "execution_count": 6,
   "metadata": {
    "colab": {
     "base_uri": "https://localhost:8080/"
    },
    "id": "tCPNgzPahm6Q",
    "outputId": "e3956ade-013e-42e4-a53e-544619939d1f"
   },
   "outputs": [
    {
     "data": {
      "text/plain": [
       "36975"
      ]
     },
     "execution_count": 6,
     "metadata": {},
     "output_type": "execute_result"
    }
   ],
   "source": [
    "len(pids)"
   ]
  },
  {
   "cell_type": "markdown",
   "metadata": {},
   "source": [
    "## Data Visulization"
   ]
  },
  {
   "cell_type": "code",
   "execution_count": 7,
   "metadata": {},
   "outputs": [],
   "source": [
    "import pickle\n",
    "\n",
    "DATA_PATH = \"./data\"\n",
    "pids = pickle.load(open(os.path.join(DATA_PATH,'pids.pickle'), 'rb'))\n",
    "vids = pickle.load(open(os.path.join(DATA_PATH,'vids.pickle'), 'rb'))\n",
    "hfs = pickle.load(open(os.path.join(DATA_PATH,'hfs.pickle'), 'rb'))\n",
    "seqs = pickle.load(open(os.path.join(DATA_PATH,'seqs.pickle'), 'rb'))\n",
    "types = pickle.load(open(os.path.join(DATA_PATH,'types.pickle'), 'rb'))\n",
    "rtypes = pickle.load(open(os.path.join(DATA_PATH,'rtypes.pickle'), 'rb'))"
   ]
  },
  {
   "cell_type": "code",
   "execution_count": 8,
   "metadata": {},
   "outputs": [
    {
     "name": "stdout",
     "output_type": "stream",
     "text": [
      "Patient ID: 10001860\n",
      "Heart Failure: 0\n",
      "# of visits: 1\n",
      "\t0-th visit id: 23334588\n",
      "\t0-th visit diagnosis labels: [2743, 925, 4756, 1095, 2244, 2304, 1057, 1389, 1204, 2944, 4960, 1815, 4936, 4855, 4872, 2299, 5012]\n",
      "\t0-th visit diagnosis codes: ['4829', '25000', '78060', '2761', '4019', '41401', '2724', '30000', '2859', '53081', '79311', '34982', '7904', '78701', '78791', '412', '79902']\n"
     ]
    }
   ],
   "source": [
    "print(\"Patient ID:\", pids[5])\n",
    "print(\"Heart Failure:\", hfs[5])\n",
    "print(\"# of visits:\", len(vids[5]))\n",
    "for visit in range(len(vids[5])):\n",
    "    print(f\"\\t{visit}-th visit id:\", vids[3][visit])\n",
    "    print(f\"\\t{visit}-th visit diagnosis labels:\", seqs[3][visit])\n",
    "    print(f\"\\t{visit}-th visit diagnosis codes:\", [rtypes[label] for label in seqs[3][visit]])"
   ]
  },
  {
   "cell_type": "code",
   "execution_count": 9,
   "metadata": {},
   "outputs": [
    {
     "name": "stdout",
     "output_type": "stream",
     "text": [
      "([[2406, 2751, 2846, 412, 2298, 6078, 2397, 2789, 1384, 2386, 2255, 3277, 2304, 925, 7084, 1979, 910, 6905], [2406, 2846, 1801, 2387, 17, 412, 1096, 1094, 3273, 2397, 2386, 2491, 2269, 2255, 2976, 7159, 2395, 2789, 1534, 1105, 4860, 4876, 7230, 927, 7084, 2304, 1979, 886, 7276], [2406, 2751, 3270, 2298, 2397, 2304, 2386, 2255, 3277, 3279, 925, 2789, 6843, 4840, 4860, 4980]], 1)\n"
     ]
    }
   ],
   "source": [
    "from torch.utils.data import Dataset\n",
    "\n",
    "\n",
    "class CustomDataset(Dataset):\n",
    "    \n",
    "    def __init__(self, seqs, hfs):\n",
    "        \n",
    "        self.x = seqs  # Store diagnosis sequences\n",
    "        self.y = hfs   # Store heart failure outcomes\n",
    "    \n",
    "    def __len__(self):\n",
    "        return len(self.x)  # Number of patients\n",
    "    \n",
    "    def __getitem__(self, index):\n",
    "        return self.x[index], self.y[index]\n",
    "        \n",
    "\n",
    "dataset = CustomDataset(seqs, hfs)\n",
    "\n",
    "print(dataset[1000])"
   ]
  },
  {
   "cell_type": "markdown",
   "metadata": {},
   "source": [
    "## Distribution of Diagnosis Counts per Visit"
   ]
  },
  {
   "cell_type": "code",
   "execution_count": 10,
   "metadata": {},
   "outputs": [
    {
     "data": {
      "image/png": "[encoded data removed]",
      "text/plain": [
       "<Figure size 640x480 with 1 Axes>"
      ]
     },
     "metadata": {},
     "output_type": "display_data"
    }
   ],
   "source": [
    "import matplotlib.pyplot as plt\n",
    "\n",
    "diagnoses_per_visit = [len(visit) for patient in dataset.x for visit in patient]\n",
    "plt.hist(diagnoses_per_visit, bins=range(1, max(diagnoses_per_visit)+2), align='left')\n",
    "plt.title('Distribution of Diagnosis Counts per Visit')\n",
    "plt.xlabel('Number of Diagnoses')\n",
    "plt.ylabel('Frequency')\n",
    "plt.show()"
   ]
  },
  {
   "cell_type": "markdown",
   "metadata": {},
   "source": [
    "## Frequency of Heart Failure Cases"
   ]
  },
  {
   "cell_type": "code",
   "execution_count": 11,
   "metadata": {},
   "outputs": [
    {
     "data": {
      "image/png": "[encoded data removed]",
      "text/plain": [
       "<Figure size 640x480 with 1 Axes>"
      ]
     },
     "metadata": {},
     "output_type": "display_data"
    }
   ],
   "source": [
    "from collections import Counter\n",
    "\n",
    "hf_labels = [hf for _, hf in dataset]\n",
    "\n",
    "num_heart_failure = sum(hf_labels)\n",
    "num_no_heart_failure = len(hf_labels) - num_heart_failure\n",
    "\n",
    "labels = ['No Heart Failure', 'Heart Failure']\n",
    "sizes = [num_no_heart_failure, num_heart_failure]\n",
    "plt.pie(sizes, labels=labels, autopct='%1.1f%%')\n",
    "plt.title('Proportion of Heart Failure Cases')\n",
    "plt.show()"
   ]
  },
  {
   "cell_type": "markdown",
   "metadata": {},
   "source": [
    "## Visit Frequency per Patient"
   ]
  },
  {
   "cell_type": "code",
   "execution_count": 12,
   "metadata": {},
   "outputs": [
    {
     "data": {
      "image/png": "[encoded data removed]",
      "text/plain": [
       "<Figure size 640x480 with 1 Axes>"
      ]
     },
     "metadata": {},
     "output_type": "display_data"
    }
   ],
   "source": [
    "visit_counts = Counter(len(patient) for patient in dataset.x)\n",
    "plt.bar(visit_counts.keys(), visit_counts.values())\n",
    "plt.title('Number of Visits per Patient')\n",
    "plt.xlabel('Number of Visits')\n",
    "plt.ylabel('Number of Patients')\n",
    "plt.show()"
   ]
  },
  {
   "cell_type": "markdown",
   "metadata": {
    "id": "vNSdhPkuaK9K"
   },
   "source": [
    "### Pre-processing: Filter 'patient_df' and 'diagnoses_df' into list data used for RNN\n",
    "\n",
    "where\n",
    "* pids: contains the patient ids\n",
    "* vids: contains a list of visit ids for each patient\n",
    "* hfs: contains the heart failure label (0: normal, 1: heart failure) for each patient\n",
    "* seqs: contains a list of visit (in ICD9 codes) for each patient\n",
    "* types: contains the map from ICD9 codes to ICD-9 labels\n",
    "* rtypes: contains the map from ICD9 labels to ICD9 codes\n",
    "\n",
    "Read in `d_icd_diagnoses.csv` and `diagnoses.csv` as Pandas DataFrames"
   ]
  },
  {
   "cell_type": "code",
   "execution_count": 13,
   "metadata": {},
   "outputs": [],
   "source": [
    "with open('enc_d_icd_diagnoses', 'rb') as encrypted_file:\n",
    "    encrypted = encrypted_file.read()\n",
    "\n",
    "decrypted = f.decrypt(encrypted)\n",
    "\n",
    "with open(os.path.join(DATA_PATH,'d_icd_diagnoses.csv'), 'wb') as decrypted_file:\n",
    "    decrypted_file.write(decrypted)"
   ]
  },
  {
   "cell_type": "code",
   "execution_count": 14,
   "metadata": {
    "colab": {
     "base_uri": "https://localhost:8080/"
    },
    "id": "wZNf6Sp2Yl-D",
    "outputId": "a8b8b792-6be1-4fcf-b7f0-c33a5b495fe2"
   },
   "outputs": [
    {
     "name": "stdout",
     "output_type": "stream",
     "text": [
      "  icd_code  icd_version                             long_title\n",
      "0     0010            9         Cholera due to vibrio cholerae\n",
      "1     0011            9  Cholera due to vibrio cholerae el tor\n",
      "2     0019            9                   Cholera, unspecified\n",
      "3     0020            9                          Typhoid fever\n",
      "4     0021            9                    Paratyphoid fever A\n"
     ]
    }
   ],
   "source": [
    "d_icd_diagnoses_df = pd.read_csv(DATA_PATH + '/d_icd_diagnoses.csv', sep=',', header='infer')\n",
    "print(d_icd_diagnoses_df.head(5))"
   ]
  },
  {
   "cell_type": "code",
   "execution_count": 15,
   "metadata": {},
   "outputs": [
    {
     "name": "stderr",
     "output_type": "stream",
     "text": [
      "Downloading...\n",
      "From (original): https://drive.google.com/uc?id=1sZIXoSLOnC0W6D5DxQFXmsJozBO_gcGX\n",
      "From (redirected): https://drive.google.com/uc?id=1sZIXoSLOnC0W6D5DxQFXmsJozBO_gcGX&confirm=t&uuid=e0cc42a4-1d25-472a-9500-995eb80f9597\n",
      "To: /Users/spenny/CS598_Final_Proj/CS598_DLH_Final_Project/enc_diagnoses\n",
      "100%|██████████| 180M/180M [00:05<00:00, 33.1MB/s] \n"
     ]
    },
    {
     "data": {
      "text/plain": [
       "'enc_diagnoses'"
      ]
     },
     "execution_count": 15,
     "metadata": {},
     "output_type": "execute_result"
    }
   ],
   "source": [
    "import gdown\n",
    "\n",
    "url = \"https://drive.google.com/file/d/1sZIXoSLOnC0W6D5DxQFXmsJozBO_gcGX/view?usp=share_link\"\n",
    "output = 'enc_diagnoses'\n",
    "\n",
    "gdown.download(url=url, output=output, fuzzy=True)"
   ]
  },
  {
   "cell_type": "code",
   "execution_count": 16,
   "metadata": {},
   "outputs": [],
   "source": [
    "with open('enc_diagnoses', 'rb') as encrypted_file:\n",
    "    encrypted = encrypted_file.read()\n",
    "\n",
    "decrypted = f.decrypt(encrypted)\n",
    "\n",
    "with open(os.path.join(DATA_PATH,'diagnoses_icd.csv'), 'wb') as decrypted_file:\n",
    "    decrypted_file.write(decrypted)"
   ]
  },
  {
   "cell_type": "code",
   "execution_count": 17,
   "metadata": {
    "colab": {
     "base_uri": "https://localhost:8080/"
    },
    "id": "GVevf6drZWhN",
    "outputId": "451bee96-2078-4b66-bb36-0206eab52b85"
   },
   "outputs": [
    {
     "name": "stdout",
     "output_type": "stream",
     "text": [
      "   subject_id   hadm_id  seq_num icd_code  icd_version\n",
      "0    10000032  22595853        1     5723            9\n",
      "1    10000032  22595853        2    78959            9\n",
      "2    10000032  22595853        3     5715            9\n",
      "3    10000032  22595853        4    07070            9\n",
      "4    10000032  22595853        5      496            9\n"
     ]
    }
   ],
   "source": [
    "diagnoses_df = pd.read_csv(DATA_PATH + '/diagnoses_icd.csv', sep=',', header='infer')\n",
    "print(diagnoses_df.head(5))"
   ]
  },
  {
   "cell_type": "markdown",
   "metadata": {
    "id": "E2YXZRv2h-J9"
   },
   "source": [
    "\n",
    "\n",
    "---\n",
    "\n",
    "\n",
    "\n",
    "The MIMIC-IV dataset is a large and comprehensive collection of medical records, containing over 120,000 unique patient identifiers ('pid'). While this extensive dataset provides a wealth of information, training machine learning models on such a vast dataset can lead to overtraining and overfitting issues. Overfitting occurs when a model learns the training data too well, including its noise and outliers, thereby reducing its ability to generalize to new, unseen data.\n",
    "\n",
    "To mitigate these challenges and improve the model's performance, we have decided to train our models on a smaller, carefully selected subset of the MIMIC-IV dataset. By focusing on a more manageable dataset, we aim to create models that are more robust, generalize better to new data, and ultimately yield more reliable predictions in clinical settings."
   ]
  },
  {
   "cell_type": "code",
   "execution_count": 18,
   "metadata": {
    "id": "w10A2Aqi2HPh"
   },
   "outputs": [],
   "source": [
    "total_length = len(pids)\n",
    "random_indices = random.sample(range(total_length), 1000)\n",
    "\n",
    "# Select the 2000 elements using the random indices\n",
    "pids = [pids[i] for i in random_indices]\n",
    "vids = [vids[i] for i in random_indices]\n",
    "hfs = [hfs[i] for i in random_indices]\n",
    "seqs = [seqs[i] for i in random_indices]"
   ]
  },
  {
   "cell_type": "markdown",
   "metadata": {
    "id": "jRk7-KR2fW8I"
   },
   "source": [
    "Pre-Processing for Machine Learning model: Random Forest (RF), Logistic Regression(LR), Support Vector Machine (SVM)"
   ]
  },
  {
   "cell_type": "code",
   "execution_count": 19,
   "metadata": {
    "id": "rOHNOh8a3xOQ"
   },
   "outputs": [],
   "source": [
    "d_icd_diagnoses_df = pd.read_csv(DATA_PATH + '/d_icd_diagnoses.csv', sep=',', header='infer')\n",
    "diagnoses_df = pd.read_csv(DATA_PATH + '/diagnoses_icd.csv', sep=',', header='infer')\n",
    "\n",
    "merged_df = pd.merge(diagnoses_df,d_icd_diagnoses_df, on=['icd_code', 'icd_version'], how='left')\n",
    "merged_df['hfs'] = merged_df['long_title'].str.contains(\"heart failure\").astype(int)\n",
    "merged_df = merged_df[merged_df['icd_version'] == 9]"
   ]
  },
  {
   "cell_type": "code",
   "execution_count": 20,
   "metadata": {
    "id": "QEB7CHUUg1fk"
   },
   "outputs": [],
   "source": [
    "grouped_df = merged_df.groupby('subject_id').agg({\n",
    "    'seq_num': 'sum',\n",
    "    'hfs': 'max'\n",
    "}).reset_index()\n",
    "\n",
    "grouped_df = grouped_df[:1000]"
   ]
  },
  {
   "cell_type": "markdown",
   "metadata": {
    "id": "3muyDPFPbozY"
   },
   "source": [
    "##  Model\n",
    "\n",
    "Model architecture\n",
    "\n",
    "---\n",
    "\n",
    "**RNN without additional layers**\n",
    "\n",
    "Layers | Configuration | Activation Function | Output Dimension (batch, feature)\n",
    "--- | --- | --- | ---\n",
    "Embedding | num_embeddings=num_codes, embedding_dim=128 | - | (batch_size, seq_len, embedding_dim)\n",
    "GRU (RNN) | input_size=128, hidden_size=hidden_size | - | (batch_size, seq_len, hidden_size)\n",
    "Linear (fully connected) | input_size=hidden_size , output_size=1 | - | (batch_size, 1)\n",
    "Sigmoid | - | - | (batch_size, 1)\n",
    "\n",
    "**RNN with reversed input layer**\n",
    "\n",
    "Layers | Configuration | Activation Function | Output Dimension (batch, feature)\n",
    "--- | --- | --- | ---\n",
    "Embedding | num_embeddings=num_codes, embedding_dim=128 | - | (batch_size, seq_len, embedding_dim)\n",
    "GRU (RNN) | input_size=128, hidden_size=hidden_size | - | (batch_size, seq_len, hidden_size)\n",
    "GRU (Reverse RNN) | input_size=128, hidden_size=hidden_size | - | (batch_size, seq_len, hidden_size)\n",
    "Linear (fully connected) | input_size=hidden_size * 2, output_size=1 | - | (batch_size, 1)\n",
    "Sigmoid | - | - | (batch_size, 1)\n",
    "\n",
    "**RNN with global max-pooling layer**\n",
    "\n",
    "Layers | Configuration | Activation Function | Output Dimension (batch, feature)\n",
    "--- | --- | --- | ---\n",
    "Embedding | num_embeddings=num_codes, embedding_dim=128 | - | (batch_size, seq_len, embedding_dim)\n",
    "GRU (RNN) | input_size=128, hidden_size=hidden_size | - | (batch_size, seq_len, hidden_size)\n",
    "AdaptiveMaxPool1d | output_size=hidden_size | - | (batch_size, hidden_size)\n",
    "Linear (fully connected) | input_size=hidden_size, output_size=1 | - | (batch_size, 1)\n",
    "Sigmoid | - | - | (batch_size, 1)\n",
    "\n",
    "**RNN with global max-pooling layer + reversed input layer**\n",
    "\n",
    "Layers | Configuration | Activation Function | Output Dimension (batch, feature)\n",
    "--- | --- | --- | ---\n",
    "Embedding | num_embeddings=num_codes, embedding_dim=128 | - | (batch_size, seq_len, embedding_dim)\n",
    "GRU (RNN) | input_size=128, hidden_size=hidden_size | - | (batch_size, seq_len, hidden_size)\n",
    "GRU (Reverse RNN) | input_size=128, hidden_size=hidden_size | - | (batch_size, seq_len, hidden_size)\n",
    "AdaptiveMaxPool1d | output_size=hidden_size | - | (batch_size, hidden_size)\n",
    "Linear (fully connected) | input_size=hidden_size * 2, output_size=1 | - | (batch_size, 1)\n",
    "Sigmoid | - | - | (batch_size, 1)\n",
    "\n",
    "\n",
    "Training objectives:\n",
    "*   Loss Function: Binary Cross-Entropy Loss (assuming the model is for binary classification since the output is passed through a sigmoid activation).\n",
    "*   Optimizer: Adam optimizer with a learning rate of 1e-3.\n",
    "\n",
    "\n",
    "\n",
    "\n",
    "## Disclamer\n",
    "\n",
    "Disclaimer: We utilized the basic RNN structure code from Homework 3 for the RNN model. Using this basic structure as a foundation, we will combine it with a naive bi-directional mechanism and a global max-pooling layer."
   ]
  },
  {
   "cell_type": "code",
   "execution_count": 21,
   "metadata": {
    "id": "iJ2fvsicKFyW"
   },
   "outputs": [],
   "source": [
    "# Custom dataset\n",
    "from torch.utils.data import Dataset, DataLoader, random_split\n",
    "from torch.utils.data import DataLoader\n",
    "\n",
    "class CustomDataset(Dataset):\n",
    "  def __init__(self, seqs, hfs):\n",
    "    self.seqs = seqs\n",
    "    self.hfs = hfs\n",
    "\n",
    "  def __len__(self):\n",
    "    return len(self.seqs)\n",
    "\n",
    "  def __getitem__(self, index):\n",
    "    return self.seqs[index], self.hfs[index]\n",
    "\n",
    "dataset = CustomDataset(seqs, hfs)"
   ]
  },
  {
   "cell_type": "code",
   "execution_count": 22,
   "metadata": {
    "id": "_bx4P_G9KFkR"
   },
   "outputs": [],
   "source": [
    "def collate_fn(data):\n",
    "    sequences, labels = zip(*data)\n",
    "    y = torch.tensor(labels, dtype=torch.float)\n",
    "\n",
    "    num_patients = len(sequences)\n",
    "    num_visits = [len(patient) for patient in sequences]\n",
    "    num_codes = [len(visit) for patient in sequences for visit in patient]\n",
    "\n",
    "    max_num_visits = max(num_visits)\n",
    "    max_num_codes = max(num_codes)\n",
    "\n",
    "    x = torch.zeros((num_patients, max_num_visits, max_num_codes), dtype=torch.long)\n",
    "    rev_x = torch.zeros((num_patients, max_num_visits, max_num_codes), dtype=torch.long)\n",
    "    masks = torch.zeros((num_patients, max_num_visits, max_num_codes), dtype=torch.bool)\n",
    "    rev_masks = torch.zeros((num_patients, max_num_visits, max_num_codes), dtype=torch.bool)\n",
    "    for i_patient, patient in enumerate(sequences):\n",
    "        for j_visit, visit in enumerate(patient):\n",
    "            padded_visit = torch.tensor(visit + [0] * (max_num_codes - len(visit)), dtype=torch.long)\n",
    "            x[i_patient, j_visit, :] = padded_visit\n",
    "            masks[i_patient, j_visit, :] = padded_visit != 0\n",
    "\n",
    "    for i_patient, patient in enumerate(sequences):\n",
    "        idx_all_real_visits = torch.sum(x[i_patient, :, :], dim=1) != 0\n",
    "        idx_padded_visits = torch.sum(x[i_patient, :, :], dim=1) == 0\n",
    "        reversed_real_visits = torch.flip(x[i_patient, idx_all_real_visits, :], dims=(0,))\n",
    "        rev_x[i_patient, :, :] = torch.cat((reversed_real_visits, x[i_patient, idx_padded_visits, :]), dim=0)\n",
    "        rev_masks[i_patient, :, :] = rev_x[i_patient, :, :] != 0\n",
    "\n",
    "    return x, masks, rev_x, rev_masks, y\n",
    "\n",
    "def load_data(train_dataset, val_dataset, collate_fn):\n",
    "    batch_size = 32\n",
    "\n",
    "    train_loader = DataLoader(train_dataset, batch_size=batch_size, collate_fn=collate_fn, shuffle=True)\n",
    "    val_loader = DataLoader(val_dataset, batch_size=batch_size, collate_fn=collate_fn, shuffle=False)\n",
    "\n",
    "    return train_loader, val_loader\n",
    "\n",
    "def sum_embeddings_with_mask(x, masks):\n",
    "\n",
    "    masked_embeddings = x * masks.unsqueeze(-1)\n",
    "    sum_embeddings = masked_embeddings.sum(dim=2)\n",
    "\n",
    "    return sum_embeddings\n",
    "\n",
    "def get_last_visit(hidden_states, masks):\n",
    "\n",
    "    true_visit_length = torch.sum(masks, dim=1)\n",
    "    idx_last_visit = true_visit_length[:,0] - 1\n",
    "    last_hidden_state = hidden_states[torch.arange(hidden_states.size(0)), idx_last_visit, :]\n",
    "\n",
    "    return last_hidden_state"
   ]
  },
  {
   "cell_type": "code",
   "execution_count": 23,
   "metadata": {
    "colab": {
     "base_uri": "https://localhost:8080/"
    },
    "id": "t2lFISxgQ8Uj",
    "outputId": "5104a60f-1b7f-4008-a9ae-f75bfba8b1da"
   },
   "outputs": [
    {
     "name": "stdout",
     "output_type": "stream",
     "text": [
      "Length of train dataset: 800\n",
      "Length of train with HF: 298\n",
      "Length of train with survive patients: 502\n",
      "Length of val dataset: 200\n",
      "Length of val with HF: 77\n",
      "Length of val with survive patients: 723\n"
     ]
    }
   ],
   "source": [
    "split = int(len(dataset)*0.8)\n",
    "\n",
    "lengths = [split, len(dataset) - split]\n",
    "train_dataset, val_dataset = random_split(dataset, lengths)\n",
    "\n",
    "train_loader, val_loader = load_data(train_dataset, val_dataset, collate_fn)\n",
    "print(\"Length of train dataset:\", len(train_dataset))\n",
    "print(\"Length of train with HF:\", np.sum([element[-1] for element in train_dataset]))\n",
    "print(\"Length of train with survive patients:\", (len(train_dataset) - np.sum([element[-1] for element in train_dataset])))\n",
    "print(\"Length of val dataset:\", len(val_dataset))\n",
    "print(\"Length of val with HF:\", np.sum([element[-1] for element in val_dataset]))\n",
    "print(\"Length of val with survive patients:\", (len(train_dataset) - np.sum([element[-1] for element in val_dataset])))\n"
   ]
  },
  {
   "cell_type": "markdown",
   "metadata": {},
   "source": [
    "RNN without additional layers"
   ]
  },
  {
   "cell_type": "code",
   "execution_count": 24,
   "metadata": {
    "id": "VtHFMPKdX9EP"
   },
   "outputs": [],
   "source": [
    "class RNN(nn.Module):\n",
    "\n",
    "    def __init__(self, num_codes, learning_rate = 0.01, hidden_size = 128, dropout = 0):\n",
    "        super().__init__()\n",
    "        self.embedding = nn.Embedding(num_embeddings=num_codes, embedding_dim=128)\n",
    "\n",
    "        self.rnn = nn.GRU(input_size=128, hidden_size=hidden_size, batch_first=True, dropout=0)\n",
    "\n",
    "        self.fc = nn.Linear(in_features=hidden_size, out_features=1)\n",
    "        self.sigmoid = nn.Sigmoid()\n",
    "\n",
    "    def forward(self, x, masks, rev_x, rev_masks):\n",
    "\n",
    "        batch_size = x.shape[0]\n",
    "\n",
    "        x = self.embedding(x)\n",
    "        x = sum_embeddings_with_mask(x, masks)\n",
    "        output, _ = self.rnn(x)\n",
    "        true_h_n = get_last_visit(output, masks)\n",
    "\n",
    "        logits = self.fc(true_h_n)\n",
    "        probs = self.sigmoid(logits)\n",
    "\n",
    "        return probs.view(batch_size)"
   ]
  },
  {
   "cell_type": "markdown",
   "metadata": {},
   "source": [
    "RNN with reversed input layer"
   ]
  },
  {
   "cell_type": "code",
   "execution_count": 25,
   "metadata": {
    "id": "7bVA2ugC3_bk"
   },
   "outputs": [],
   "source": [
    "class RNN_Rev(nn.Module):\n",
    "\n",
    "    def __init__(self, num_codes, learning_rate = 0.01, hidden_size = 128, dropout = 0):\n",
    "        super().__init__()\n",
    "        self.embedding = nn.Embedding(num_embeddings=num_codes, embedding_dim=128)\n",
    "\n",
    "        self.rnn = nn.GRU(input_size=128, hidden_size=hidden_size, batch_first=True, dropout=0)\n",
    "\n",
    "        self.rev_rnn = nn.GRU(input_size=128, hidden_size=hidden_size, batch_first=True, dropout=0)\n",
    "\n",
    "        self.fc = nn.Linear(in_features=hidden_size * 2, out_features=1)\n",
    "        self.sigmoid = nn.Sigmoid()\n",
    "\n",
    "    def forward(self, x, masks, rev_x, rev_masks):\n",
    "\n",
    "        batch_size = x.shape[0]\n",
    "\n",
    "        x = self.embedding(x)\n",
    "        x = sum_embeddings_with_mask(x, masks)\n",
    "        output, _ = self.rnn(x)\n",
    "        true_h_n = get_last_visit(output, masks)\n",
    "\n",
    "        true_h_n_rev = None\n",
    "\n",
    "        rev_x = self.embedding(rev_x)\n",
    "        rev_x = sum_embeddings_with_mask(rev_x, masks)\n",
    "\n",
    "        rev_output, _ = self.rnn(rev_x)\n",
    "        true_h_n_rev = get_last_visit(rev_output, masks)\n",
    "\n",
    "        logits = self.fc(torch.cat([true_h_n, true_h_n_rev], 1))\n",
    "        probs = self.sigmoid(logits)\n",
    "\n",
    "        return probs.view(batch_size)"
   ]
  },
  {
   "cell_type": "markdown",
   "metadata": {},
   "source": [
    "RNN with global max-pooling"
   ]
  },
  {
   "cell_type": "code",
   "execution_count": 26,
   "metadata": {
    "id": "H7QYN5CaQ8BS"
   },
   "outputs": [],
   "source": [
    "class RNN_Pool(nn.Module):\n",
    "\n",
    "    def __init__(self, num_codes, learning_rate = 0.01, hidden_size = 128, dropout = 0):\n",
    "        super().__init__()\n",
    "        self.embedding = nn.Embedding(num_embeddings=num_codes, embedding_dim=128)\n",
    "\n",
    "        self.rnn = nn.GRU(input_size=128, hidden_size=hidden_size, batch_first=True, dropout=0)\n",
    "\n",
    "        self.maxpooling = nn.AdaptiveMaxPool1d(hidden_size)  # Add AdaptiveMaxPool1d layer\n",
    "\n",
    "        self.fc = nn.Linear(in_features=hidden_size, out_features=1)\n",
    "        self.sigmoid = nn.Sigmoid()\n",
    "\n",
    "    def forward(self, x, masks, rev_x, rev_masks):\n",
    "        # x, masks, y, adj_matrices\n",
    "        batch_size = x.shape[0]\n",
    "\n",
    "        x = self.embedding(x)\n",
    "        x = sum_embeddings_with_mask(x, masks)\n",
    "        output, _ = self.rnn(x)\n",
    "        true_h_n = get_last_visit(output, masks)\n",
    "\n",
    "        x_max = self.maxpooling(true_h_n.unsqueeze(2).permute(0, 2, 1)).squeeze(2)\n",
    "\n",
    "        logits = self.fc(x_max) # for maxpooling layer\n",
    "        probs = self.sigmoid(logits)\n",
    "\n",
    "        return probs.view(batch_size)"
   ]
  },
  {
   "cell_type": "markdown",
   "metadata": {},
   "source": [
    "RNN with global max-pooling + reversed input layer"
   ]
  },
  {
   "cell_type": "code",
   "execution_count": 27,
   "metadata": {
    "id": "JFfhNkLUKyYO"
   },
   "outputs": [],
   "source": [
    "class RNN_Rev_Pool(nn.Module):\n",
    "\n",
    "    def __init__(self, num_codes, learning_rate = 0.01, hidden_size = 128, dropout = 0):\n",
    "        super().__init__()\n",
    "        self.embedding = nn.Embedding(num_embeddings=num_codes, embedding_dim=128)\n",
    "\n",
    "        self.rnn = nn.GRU(input_size=128, hidden_size=hidden_size, batch_first=True, dropout=0)\n",
    "        self.rev_rnn = nn.GRU(input_size=128, hidden_size=hidden_size, batch_first=True, dropout=0)\n",
    "\n",
    "        self.maxpooling = nn.AdaptiveMaxPool1d(hidden_size)  # Add AdaptiveMaxPool1d layer\n",
    "\n",
    "        self.fc = nn.Linear(in_features=hidden_size * 2, out_features=1)\n",
    "        self.sigmoid = nn.Sigmoid()\n",
    "\n",
    "\n",
    "    def forward(self, x, masks, rev_x, rev_masks):\n",
    "\n",
    "        batch_size = x.shape[0]\n",
    "\n",
    "        x = self.embedding(x)\n",
    "        x = sum_embeddings_with_mask(x, masks)\n",
    "        output, _ = self.rnn(x)\n",
    "        true_h_n = get_last_visit(output, masks)\n",
    "\n",
    "        true_h_n_rev = None\n",
    "        rev_x = self.embedding(rev_x)\n",
    "        rev_x = sum_embeddings_with_mask(rev_x, masks)\n",
    "\n",
    "        rev_output, _ = self.rnn(rev_x)\n",
    "        true_h_n_rev = get_last_visit(rev_output, masks)\n",
    "\n",
    "        true_h_n_max = self.maxpooling(true_h_n.unsqueeze(2).permute(0, 2, 1)).squeeze(2)\n",
    "        true_h_n_rev_max = self.maxpooling(true_h_n_rev.unsqueeze(2).permute(0, 2, 1)).squeeze(2)\n",
    "\n",
    "        logits = self.fc(torch.cat([true_h_n_max, true_h_n_rev_max], 2)) \n",
    "        probs = self.sigmoid(logits)\n",
    "\n",
    "        return probs.view(batch_size)"
   ]
  },
  {
   "cell_type": "code",
   "execution_count": 28,
   "metadata": {
    "id": "fXmSiIEcVn3o"
   },
   "outputs": [],
   "source": [
    "# Loss and Optimizer\n",
    "criterion = nn.BCELoss()"
   ]
  },
  {
   "cell_type": "code",
   "execution_count": 29,
   "metadata": {
    "colab": {
     "base_uri": "https://localhost:8080/"
    },
    "id": "jA6J5w0yb49P",
    "outputId": "4e8e95f2-ed42-4b59-9032-30563df9c78c"
   },
   "outputs": [
    {
     "data": {
      "text/plain": [
       "device(type='cpu')"
      ]
     },
     "execution_count": 29,
     "metadata": {},
     "output_type": "execute_result"
    }
   ],
   "source": [
    "device = torch.device('cuda' if torch.cuda.is_available() else 'cpu')\n",
    "device"
   ]
  },
  {
   "cell_type": "markdown",
   "metadata": {
    "id": "h3yysELMYXip"
   },
   "source": [
    "## Training\n",
    "\n",
    "Hyperparams\n",
    "\n",
    "* RNN without additional layers\n",
    "    * Best hyperparameters: {'dropout': 0.1, 'hidden_size': 256, 'learning_rate': 0.01}\n",
    "* RNN with reversed input layer\n",
    "    * Best hyperparameters: {'dropout': 0.1, 'hidden_size': 64, 'learning_rate': 0.01}\n",
    "* RNN with global max-pooling\n",
    "    * Best hyperparameters: {'dropout': 0.1, 'hidden_size': 128, 'learning_rate': 0.01}\n",
    "* RNN with global max-pooling + reversed input layer\n",
    "    * Best hyperparameters: {'dropout': 0.0, 'hidden_size': 128, 'learning_rate': 0.01}\n",
    "\n",
    "\n",
    "Computational requirements\n",
    "\n",
    "*   This code ran success fully on a system with the following specifications:\n",
    "    * Processor: 2.6 GHz Quad-Core intel Core i7\n",
    "    * Memory: 16 GH 2133 MHz LPDDR3\n",
    "    * Gradeon Pro 450 2GB Intel HD Graphics 530 1536MB\n",
    "\n",
    "Execution time \n",
    "\n",
    "* RNN without additional layers: 1 - 2 mins\n",
    "* RNN with reversed input layer: 1 - 2 mins\n",
    "* RNN with global max-pooling: 2 - 3 mins\n",
    "* RNN with global max-pooling + reversed input layer: 2 - 3 mins\n",
    "\n",
    "\n"
   ]
  },
  {
   "cell_type": "code",
   "execution_count": 30,
   "metadata": {
    "id": "oa9PzOgIVnvl"
   },
   "outputs": [],
   "source": [
    "from sklearn.metrics import *\n",
    "from sklearn.metrics import precision_recall_fscore_support, roc_auc_score\n",
    "\n",
    "def eval_model(model, val_loader):\n",
    "    model.to(device).eval()\n",
    "    y_pred = torch.LongTensor()\n",
    "    y_score = torch.Tensor()\n",
    "    y_true = torch.LongTensor()\n",
    "    model.eval()\n",
    "    for x, masks, rev_x, rev_masks, y in val_loader:\n",
    "        #x, masks, rev_x, rev_masks, y = x.to(device), masks.to(device), rev_x.to(device), rev_masks.to(device), y.to(device)\n",
    "\n",
    "        y_hat = model(x, masks, rev_x, rev_masks)\n",
    "        y_score = torch.cat((y_score,  y_hat.detach().to('cpu')), dim=0)\n",
    "        y_hat = (y_hat > 0.5).int()\n",
    "\n",
    "        y_pred = torch.cat((y_pred,  y_hat.detach().to('cpu')), dim=0)\n",
    "        y_true = torch.cat((y_true, y.detach().to('cpu')), dim=0)\n",
    "\n",
    "    p, r, f, _ = precision_recall_fscore_support(y_true, y_pred, average='binary')\n",
    "    roc_auc = roc_auc_score(y_true, y_score)\n",
    "\n",
    "    return p, r, f, roc_auc"
   ]
  },
  {
   "cell_type": "code",
   "execution_count": 31,
   "metadata": {
    "id": "hgrvWizb77Gf"
   },
   "outputs": [],
   "source": [
    "from sklearn.model_selection import ParameterGrid\n",
    "\n",
    "# Define the parameter grid for hyperparameter tuning\n",
    "param_grid = {\n",
    "    'learning_rate': [0.001, 0.01, 0.1],\n",
    "    'hidden_size': [64, 128, 256],\n",
    "    'dropout': [0.0, 0.1]\n",
    "}\n",
    "\n",
    "def train_with_hyperparameter_tuning(model, train_loader, val_loader, n_epochs, param_grid):\n",
    "    best_roc_auc_score = 0\n",
    "    best_params = None\n",
    "\n",
    "    # Loop over hyperparameter combinations\n",
    "    for params in ParameterGrid(param_grid):\n",
    "        print(\"Training with hyperparameters:\", params)\n",
    "\n",
    "        # Initialize the model with current hyperparameters\n",
    "        current_model = model(num_codes=len(types), **params).to(device)\n",
    "        optimizer = torch.optim.Adam(current_model.parameters(), lr=params['learning_rate'])\n",
    "        print(f\"current_model: {current_model}\")\n",
    "        # Training loop\n",
    "        for epoch in range(n_epochs):\n",
    "            current_model.train()\n",
    "            train_loss = 0\n",
    "            for x, masks, rev_x, rev_masks, y in train_loader:\n",
    "                optimizer.zero_grad()\n",
    "                y_hat = current_model(x, masks, rev_x, rev_masks)\n",
    "                y_hat = y_hat.view(y_hat.shape[0])\n",
    "                loss = criterion(y_hat, y)\n",
    "                loss.backward()\n",
    "                optimizer.step()\n",
    "                train_loss += loss.item()\n",
    "\n",
    "            train_loss = train_loss / len(train_loader)\n",
    "            print('Epoch: {} \\t Training Loss: {:.6f}'.format(epoch+1, train_loss))\n",
    "\n",
    "        # Evaluate on validation set\n",
    "        _, _, _, roc_auc = eval_model(current_model, val_loader)\n",
    "        print(\"Validation roc_auc with current hyperparameters:\", roc_auc)\n",
    "\n",
    "        # Check if this set of hyperparameters is the best so far\n",
    "        if roc_auc > best_roc_auc_score:\n",
    "            best_roc_auc_score = roc_auc\n",
    "            best_params = params\n",
    "\n",
    "    print(\"Best hyperparameters:\", best_params)\n",
    "    print(\"Best roc_auc score:\", best_roc_auc_score)\n",
    "\n",
    "    # Train the model with the best hyperparameters on the full training set\n",
    "    best_model = model(num_codes=len(types), **best_params).to(device)\n",
    "    optimizer = torch.optim.Adam(best_model.parameters(), lr=best_params['learning_rate'])\n",
    "    for epoch in range(n_epochs):\n",
    "        best_model.train()\n",
    "        train_loss = 0\n",
    "        for x, masks, rev_x, rev_masks, y in train_loader:\n",
    "            optimizer.zero_grad()\n",
    "            y_hat = best_model(x, masks, rev_x, rev_masks)\n",
    "            y_hat = y_hat.view(y_hat.shape[0])\n",
    "            loss = criterion(y_hat, y)\n",
    "            loss.backward()\n",
    "            optimizer.step()\n",
    "            train_loss += loss.item()\n",
    "\n",
    "        train_loss = train_loss / len(train_loader)\n",
    "        print('Epoch: {} \\t Training Loss: {:.6f}'.format(epoch+1, train_loss))\n",
    "\n",
    "    return best_model"
   ]
  },
  {
   "cell_type": "code",
   "execution_count": 32,
   "metadata": {
    "colab": {
     "base_uri": "https://localhost:8080/"
    },
    "id": "ESKidmKYFtnJ",
    "outputId": "3bf48171-2354-4fc6-961f-713165fbbac7"
   },
   "outputs": [
    {
     "name": "stdout",
     "output_type": "stream",
     "text": [
      "Training with hyperparameters: {'dropout': 0.0, 'hidden_size': 64, 'learning_rate': 0.001}\n",
      "current_model: RNN(\n",
      "  (embedding): Embedding(7328, 128)\n",
      "  (rnn): GRU(128, 64, batch_first=True)\n",
      "  (fc): Linear(in_features=64, out_features=1, bias=True)\n",
      "  (sigmoid): Sigmoid()\n",
      ")\n",
      "Epoch: 1 \t Training Loss: 0.638951\n",
      "Epoch: 2 \t Training Loss: 0.472035\n",
      "Epoch: 3 \t Training Loss: 0.334809\n",
      "Epoch: 4 \t Training Loss: 0.224091\n",
      "Epoch: 5 \t Training Loss: 0.144595\n",
      "Validation roc_auc with current hyperparameters: 0.937493400908035\n",
      "Training with hyperparameters: {'dropout': 0.0, 'hidden_size': 64, 'learning_rate': 0.01}\n",
      "current_model: RNN(\n",
      "  (embedding): Embedding(7328, 128)\n",
      "  (rnn): GRU(128, 64, batch_first=True)\n",
      "  (fc): Linear(in_features=64, out_features=1, bias=True)\n",
      "  (sigmoid): Sigmoid()\n",
      ")\n",
      "Epoch: 1 \t Training Loss: 0.418942\n",
      "Epoch: 2 \t Training Loss: 0.077669\n",
      "Epoch: 3 \t Training Loss: 0.013355\n",
      "Epoch: 4 \t Training Loss: 0.003987\n",
      "Epoch: 5 \t Training Loss: 0.001999\n",
      "Validation roc_auc with current hyperparameters: 0.9826839826839826\n",
      "Training with hyperparameters: {'dropout': 0.0, 'hidden_size': 64, 'learning_rate': 0.1}\n",
      "current_model: RNN(\n",
      "  (embedding): Embedding(7328, 128)\n",
      "  (rnn): GRU(128, 64, batch_first=True)\n",
      "  (fc): Linear(in_features=64, out_features=1, bias=True)\n",
      "  (sigmoid): Sigmoid()\n",
      ")\n",
      "Epoch: 1 \t Training Loss: 0.410378\n",
      "Epoch: 2 \t Training Loss: 0.154365\n",
      "Epoch: 3 \t Training Loss: 0.096776\n",
      "Epoch: 4 \t Training Loss: 0.075727\n",
      "Epoch: 5 \t Training Loss: 0.051809\n",
      "Validation roc_auc with current hyperparameters: 0.9767711962833914\n",
      "Training with hyperparameters: {'dropout': 0.0, 'hidden_size': 128, 'learning_rate': 0.001}\n",
      "current_model: RNN(\n",
      "  (embedding): Embedding(7328, 128)\n",
      "  (rnn): GRU(128, 128, batch_first=True)\n",
      "  (fc): Linear(in_features=128, out_features=1, bias=True)\n",
      "  (sigmoid): Sigmoid()\n",
      ")\n",
      "Epoch: 1 \t Training Loss: 0.573420\n",
      "Epoch: 2 \t Training Loss: 0.321743\n",
      "Epoch: 3 \t Training Loss: 0.172076\n",
      "Epoch: 4 \t Training Loss: 0.091791\n",
      "Epoch: 5 \t Training Loss: 0.054125\n",
      "Validation roc_auc with current hyperparameters: 0.9617780593390349\n",
      "Training with hyperparameters: {'dropout': 0.0, 'hidden_size': 128, 'learning_rate': 0.01}\n",
      "current_model: RNN(\n",
      "  (embedding): Embedding(7328, 128)\n",
      "  (rnn): GRU(128, 128, batch_first=True)\n",
      "  (fc): Linear(in_features=128, out_features=1, bias=True)\n",
      "  (sigmoid): Sigmoid()\n",
      ")\n",
      "Epoch: 1 \t Training Loss: 0.411707\n",
      "Epoch: 2 \t Training Loss: 0.052889\n",
      "Epoch: 3 \t Training Loss: 0.005099\n",
      "Epoch: 4 \t Training Loss: 0.001488\n",
      "Epoch: 5 \t Training Loss: 0.000874\n",
      "Validation roc_auc with current hyperparameters: 0.9658958927251611\n",
      "Training with hyperparameters: {'dropout': 0.0, 'hidden_size': 128, 'learning_rate': 0.1}\n",
      "current_model: RNN(\n",
      "  (embedding): Embedding(7328, 128)\n",
      "  (rnn): GRU(128, 128, batch_first=True)\n",
      "  (fc): Linear(in_features=128, out_features=1, bias=True)\n",
      "  (sigmoid): Sigmoid()\n",
      ")\n",
      "Epoch: 1 \t Training Loss: 0.532737\n",
      "Epoch: 2 \t Training Loss: 0.271145\n",
      "Epoch: 3 \t Training Loss: 0.132260\n",
      "Epoch: 4 \t Training Loss: 0.131942\n",
      "Epoch: 5 \t Training Loss: 0.135032\n",
      "Validation roc_auc with current hyperparameters: 0.9452011403230914\n",
      "Training with hyperparameters: {'dropout': 0.0, 'hidden_size': 256, 'learning_rate': 0.001}\n",
      "current_model: RNN(\n",
      "  (embedding): Embedding(7328, 128)\n",
      "  (rnn): GRU(128, 256, batch_first=True)\n",
      "  (fc): Linear(in_features=256, out_features=1, bias=True)\n",
      "  (sigmoid): Sigmoid()\n",
      ")\n",
      "Epoch: 1 \t Training Loss: 0.493528\n",
      "Epoch: 2 \t Training Loss: 0.201057\n",
      "Epoch: 3 \t Training Loss: 0.087300\n",
      "Epoch: 4 \t Training Loss: 0.044892\n",
      "Epoch: 5 \t Training Loss: 0.025100\n",
      "Validation roc_auc with current hyperparameters: 0.9625171576391088\n",
      "Training with hyperparameters: {'dropout': 0.0, 'hidden_size': 256, 'learning_rate': 0.01}\n",
      "current_model: RNN(\n",
      "  (embedding): Embedding(7328, 128)\n",
      "  (rnn): GRU(128, 256, batch_first=True)\n",
      "  (fc): Linear(in_features=256, out_features=1, bias=True)\n",
      "  (sigmoid): Sigmoid()\n",
      ")\n",
      "Epoch: 1 \t Training Loss: 0.358449\n",
      "Epoch: 2 \t Training Loss: 0.021501\n",
      "Epoch: 3 \t Training Loss: 0.003717\n",
      "Epoch: 4 \t Training Loss: 0.000801\n",
      "Epoch: 5 \t Training Loss: 0.000479\n",
      "Validation roc_auc with current hyperparameters: 0.9796220040122481\n",
      "Training with hyperparameters: {'dropout': 0.0, 'hidden_size': 256, 'learning_rate': 0.1}\n",
      "current_model: RNN(\n",
      "  (embedding): Embedding(7328, 128)\n",
      "  (rnn): GRU(128, 256, batch_first=True)\n",
      "  (fc): Linear(in_features=256, out_features=1, bias=True)\n",
      "  (sigmoid): Sigmoid()\n",
      ")\n",
      "Epoch: 1 \t Training Loss: 0.828900\n",
      "Epoch: 2 \t Training Loss: 0.220495\n",
      "Epoch: 3 \t Training Loss: 0.181238\n",
      "Epoch: 4 \t Training Loss: 0.090135\n",
      "Epoch: 5 \t Training Loss: 0.069241\n",
      "Validation roc_auc with current hyperparameters: 0.9630450849963045\n",
      "Training with hyperparameters: {'dropout': 0.1, 'hidden_size': 64, 'learning_rate': 0.001}\n",
      "current_model: RNN(\n",
      "  (embedding): Embedding(7328, 128)\n",
      "  (rnn): GRU(128, 64, batch_first=True)\n",
      "  (fc): Linear(in_features=64, out_features=1, bias=True)\n",
      "  (sigmoid): Sigmoid()\n",
      ")\n",
      "Epoch: 1 \t Training Loss: 0.593849\n",
      "Epoch: 2 \t Training Loss: 0.421636\n",
      "Epoch: 3 \t Training Loss: 0.290154\n",
      "Epoch: 4 \t Training Loss: 0.189002\n",
      "Epoch: 5 \t Training Loss: 0.119902\n",
      "Validation roc_auc with current hyperparameters: 0.953647978038222\n",
      "Training with hyperparameters: {'dropout': 0.1, 'hidden_size': 64, 'learning_rate': 0.01}\n",
      "current_model: RNN(\n",
      "  (embedding): Embedding(7328, 128)\n",
      "  (rnn): GRU(128, 64, batch_first=True)\n",
      "  (fc): Linear(in_features=64, out_features=1, bias=True)\n",
      "  (sigmoid): Sigmoid()\n",
      ")\n",
      "Epoch: 1 \t Training Loss: 0.361709\n",
      "Epoch: 2 \t Training Loss: 0.049918\n",
      "Epoch: 3 \t Training Loss: 0.009212\n",
      "Epoch: 4 \t Training Loss: 0.002843\n",
      "Epoch: 5 \t Training Loss: 0.001538\n",
      "Validation roc_auc with current hyperparameters: 0.9805722732552\n",
      "Training with hyperparameters: {'dropout': 0.1, 'hidden_size': 64, 'learning_rate': 0.1}\n",
      "current_model: RNN(\n",
      "  (embedding): Embedding(7328, 128)\n",
      "  (rnn): GRU(128, 64, batch_first=True)\n",
      "  (fc): Linear(in_features=64, out_features=1, bias=True)\n",
      "  (sigmoid): Sigmoid()\n",
      ")\n",
      "Epoch: 1 \t Training Loss: 0.418547\n",
      "Epoch: 2 \t Training Loss: 0.160591\n",
      "Epoch: 3 \t Training Loss: 0.136057\n",
      "Epoch: 4 \t Training Loss: 0.095523\n",
      "Epoch: 5 \t Training Loss: 0.114569\n",
      "Validation roc_auc with current hyperparameters: 0.9596663499102523\n",
      "Training with hyperparameters: {'dropout': 0.1, 'hidden_size': 128, 'learning_rate': 0.001}\n",
      "current_model: RNN(\n",
      "  (embedding): Embedding(7328, 128)\n",
      "  (rnn): GRU(128, 128, batch_first=True)\n",
      "  (fc): Linear(in_features=128, out_features=1, bias=True)\n",
      "  (sigmoid): Sigmoid()\n",
      ")\n",
      "Epoch: 1 \t Training Loss: 0.535354\n",
      "Epoch: 2 \t Training Loss: 0.295166\n",
      "Epoch: 3 \t Training Loss: 0.162229\n",
      "Epoch: 4 \t Training Loss: 0.084356\n",
      "Epoch: 5 \t Training Loss: 0.047773\n",
      "Validation roc_auc with current hyperparameters: 0.9604054482103263\n",
      "Training with hyperparameters: {'dropout': 0.1, 'hidden_size': 128, 'learning_rate': 0.01}\n",
      "current_model: RNN(\n",
      "  (embedding): Embedding(7328, 128)\n",
      "  (rnn): GRU(128, 128, batch_first=True)\n",
      "  (fc): Linear(in_features=128, out_features=1, bias=True)\n",
      "  (sigmoid): Sigmoid()\n",
      ")\n",
      "Epoch: 1 \t Training Loss: 0.380712\n",
      "Epoch: 2 \t Training Loss: 0.041103\n",
      "Epoch: 3 \t Training Loss: 0.003771\n",
      "Epoch: 4 \t Training Loss: 0.001141\n",
      "Epoch: 5 \t Training Loss: 0.000719\n",
      "Validation roc_auc with current hyperparameters: 0.9623059866962306\n",
      "Training with hyperparameters: {'dropout': 0.1, 'hidden_size': 128, 'learning_rate': 0.1}\n",
      "current_model: RNN(\n",
      "  (embedding): Embedding(7328, 128)\n",
      "  (rnn): GRU(128, 128, batch_first=True)\n",
      "  (fc): Linear(in_features=128, out_features=1, bias=True)\n",
      "  (sigmoid): Sigmoid()\n",
      ")\n",
      "Epoch: 1 \t Training Loss: 0.520799\n",
      "Epoch: 2 \t Training Loss: 0.204523\n",
      "Epoch: 3 \t Training Loss: 0.119696\n",
      "Epoch: 4 \t Training Loss: 0.081227\n",
      "Epoch: 5 \t Training Loss: 0.077487\n",
      "Validation roc_auc with current hyperparameters: 0.9718086791257523\n",
      "Training with hyperparameters: {'dropout': 0.1, 'hidden_size': 256, 'learning_rate': 0.001}\n",
      "current_model: RNN(\n",
      "  (embedding): Embedding(7328, 128)\n",
      "  (rnn): GRU(128, 256, batch_first=True)\n",
      "  (fc): Linear(in_features=256, out_features=1, bias=True)\n",
      "  (sigmoid): Sigmoid()\n",
      ")\n",
      "Epoch: 1 \t Training Loss: 0.487909\n",
      "Epoch: 2 \t Training Loss: 0.193948\n",
      "Epoch: 3 \t Training Loss: 0.096318\n",
      "Epoch: 4 \t Training Loss: 0.048050\n",
      "Epoch: 5 \t Training Loss: 0.027010\n",
      "Validation roc_auc with current hyperparameters: 0.9401330376940132\n",
      "Training with hyperparameters: {'dropout': 0.1, 'hidden_size': 256, 'learning_rate': 0.01}\n",
      "current_model: RNN(\n",
      "  (embedding): Embedding(7328, 128)\n",
      "  (rnn): GRU(128, 256, batch_first=True)\n",
      "  (fc): Linear(in_features=256, out_features=1, bias=True)\n",
      "  (sigmoid): Sigmoid()\n",
      ")\n",
      "Epoch: 1 \t Training Loss: 0.364294\n",
      "Epoch: 2 \t Training Loss: 0.025968\n",
      "Epoch: 3 \t Training Loss: 0.002975\n",
      "Epoch: 4 \t Training Loss: 0.001094\n",
      "Epoch: 5 \t Training Loss: 0.000547\n",
      "Validation roc_auc with current hyperparameters: 0.9834230809840566\n",
      "Training with hyperparameters: {'dropout': 0.1, 'hidden_size': 256, 'learning_rate': 0.1}\n",
      "current_model: RNN(\n",
      "  (embedding): Embedding(7328, 128)\n",
      "  (rnn): GRU(128, 256, batch_first=True)\n",
      "  (fc): Linear(in_features=256, out_features=1, bias=True)\n",
      "  (sigmoid): Sigmoid()\n",
      ")\n",
      "Epoch: 1 \t Training Loss: 0.753984\n",
      "Epoch: 2 \t Training Loss: 0.240451\n",
      "Epoch: 3 \t Training Loss: 0.165302\n",
      "Epoch: 4 \t Training Loss: 0.118176\n",
      "Epoch: 5 \t Training Loss: 0.094116\n",
      "Validation roc_auc with current hyperparameters: 0.975609756097561\n",
      "Best hyperparameters: {'dropout': 0.1, 'hidden_size': 256, 'learning_rate': 0.01}\n",
      "Best roc_auc score: 0.9834230809840566\n",
      "Epoch: 1 \t Training Loss: 0.381950\n",
      "Epoch: 2 \t Training Loss: 0.039140\n",
      "Epoch: 3 \t Training Loss: 0.002748\n",
      "Epoch: 4 \t Training Loss: 0.000865\n",
      "Epoch: 5 \t Training Loss: 0.000510\n"
     ]
    }
   ],
   "source": [
    "# Call the training function with hyperparameter tuning - RNN without additional layers\n",
    "best_model_RNN = train_with_hyperparameter_tuning(RNN, train_loader, val_loader, n_epochs=5, param_grid=param_grid)"
   ]
  },
  {
   "cell_type": "code",
   "execution_count": 33,
   "metadata": {
    "colab": {
     "base_uri": "https://localhost:8080/"
    },
    "id": "cNiMUT7y4ImW",
    "outputId": "675ef519-d38f-49da-9afd-e4275c2d7787"
   },
   "outputs": [
    {
     "name": "stdout",
     "output_type": "stream",
     "text": [
      "Training with hyperparameters: {'dropout': 0.0, 'hidden_size': 64, 'learning_rate': 0.001}\n",
      "current_model: RNN_Rev(\n",
      "  (embedding): Embedding(7328, 128)\n",
      "  (rnn): GRU(128, 64, batch_first=True)\n",
      "  (rev_rnn): GRU(128, 64, batch_first=True)\n",
      "  (fc): Linear(in_features=128, out_features=1, bias=True)\n",
      "  (sigmoid): Sigmoid()\n",
      ")\n",
      "Epoch: 1 \t Training Loss: 0.634741\n",
      "Epoch: 2 \t Training Loss: 0.435689\n",
      "Epoch: 3 \t Training Loss: 0.287276\n",
      "Epoch: 4 \t Training Loss: 0.178957\n",
      "Epoch: 5 \t Training Loss: 0.109499\n",
      "Validation roc_auc with current hyperparameters: 0.9679020166825044\n",
      "Training with hyperparameters: {'dropout': 0.0, 'hidden_size': 64, 'learning_rate': 0.01}\n",
      "current_model: RNN_Rev(\n",
      "  (embedding): Embedding(7328, 128)\n",
      "  (rnn): GRU(128, 64, batch_first=True)\n",
      "  (rev_rnn): GRU(128, 64, batch_first=True)\n",
      "  (fc): Linear(in_features=128, out_features=1, bias=True)\n",
      "  (sigmoid): Sigmoid()\n",
      ")\n",
      "Epoch: 1 \t Training Loss: 0.362468\n",
      "Epoch: 2 \t Training Loss: 0.041063\n",
      "Epoch: 3 \t Training Loss: 0.006959\n",
      "Epoch: 4 \t Training Loss: 0.001909\n",
      "Epoch: 5 \t Training Loss: 0.001075\n",
      "Validation roc_auc with current hyperparameters: 0.9844789356984479\n",
      "Training with hyperparameters: {'dropout': 0.0, 'hidden_size': 64, 'learning_rate': 0.1}\n",
      "current_model: RNN_Rev(\n",
      "  (embedding): Embedding(7328, 128)\n",
      "  (rnn): GRU(128, 64, batch_first=True)\n",
      "  (rev_rnn): GRU(128, 64, batch_first=True)\n",
      "  (fc): Linear(in_features=128, out_features=1, bias=True)\n",
      "  (sigmoid): Sigmoid()\n",
      ")\n",
      "Epoch: 1 \t Training Loss: 0.418516\n",
      "Epoch: 2 \t Training Loss: 0.186997\n",
      "Epoch: 3 \t Training Loss: 0.136554\n",
      "Epoch: 4 \t Training Loss: 0.138620\n",
      "Epoch: 5 \t Training Loss: 0.121075\n",
      "Validation roc_auc with current hyperparameters: 0.9727589483687045\n",
      "Training with hyperparameters: {'dropout': 0.0, 'hidden_size': 128, 'learning_rate': 0.001}\n",
      "current_model: RNN_Rev(\n",
      "  (embedding): Embedding(7328, 128)\n",
      "  (rnn): GRU(128, 128, batch_first=True)\n",
      "  (rev_rnn): GRU(128, 128, batch_first=True)\n",
      "  (fc): Linear(in_features=256, out_features=1, bias=True)\n",
      "  (sigmoid): Sigmoid()\n",
      ")\n",
      "Epoch: 1 \t Training Loss: 0.592458\n",
      "Epoch: 2 \t Training Loss: 0.323264\n",
      "Epoch: 3 \t Training Loss: 0.172238\n",
      "Epoch: 4 \t Training Loss: 0.088644\n",
      "Epoch: 5 \t Training Loss: 0.047480\n",
      "Validation roc_auc with current hyperparameters: 0.9836342519269348\n",
      "Training with hyperparameters: {'dropout': 0.0, 'hidden_size': 128, 'learning_rate': 0.01}\n",
      "current_model: RNN_Rev(\n",
      "  (embedding): Embedding(7328, 128)\n",
      "  (rnn): GRU(128, 128, batch_first=True)\n",
      "  (rev_rnn): GRU(128, 128, batch_first=True)\n",
      "  (fc): Linear(in_features=256, out_features=1, bias=True)\n",
      "  (sigmoid): Sigmoid()\n",
      ")\n",
      "Epoch: 1 \t Training Loss: 0.333166\n",
      "Epoch: 2 \t Training Loss: 0.029683\n",
      "Epoch: 3 \t Training Loss: 0.004337\n",
      "Epoch: 4 \t Training Loss: 0.001051\n",
      "Epoch: 5 \t Training Loss: 0.000545\n",
      "Validation roc_auc with current hyperparameters: 0.9807834441980783\n",
      "Training with hyperparameters: {'dropout': 0.0, 'hidden_size': 128, 'learning_rate': 0.1}\n",
      "current_model: RNN_Rev(\n",
      "  (embedding): Embedding(7328, 128)\n",
      "  (rnn): GRU(128, 128, batch_first=True)\n",
      "  (rev_rnn): GRU(128, 128, batch_first=True)\n",
      "  (fc): Linear(in_features=256, out_features=1, bias=True)\n",
      "  (sigmoid): Sigmoid()\n",
      ")\n",
      "Epoch: 1 \t Training Loss: 0.627936\n",
      "Epoch: 2 \t Training Loss: 0.259384\n",
      "Epoch: 3 \t Training Loss: 0.195933\n",
      "Epoch: 4 \t Training Loss: 0.090897\n",
      "Epoch: 5 \t Training Loss: 0.095517\n",
      "Validation roc_auc with current hyperparameters: 0.9630450849963046\n",
      "Training with hyperparameters: {'dropout': 0.0, 'hidden_size': 256, 'learning_rate': 0.001}\n",
      "current_model: RNN_Rev(\n",
      "  (embedding): Embedding(7328, 128)\n",
      "  (rnn): GRU(128, 256, batch_first=True)\n",
      "  (rev_rnn): GRU(128, 256, batch_first=True)\n",
      "  (fc): Linear(in_features=512, out_features=1, bias=True)\n",
      "  (sigmoid): Sigmoid()\n",
      ")\n",
      "Epoch: 1 \t Training Loss: 0.505680\n",
      "Epoch: 2 \t Training Loss: 0.210338\n",
      "Epoch: 3 \t Training Loss: 0.086132\n",
      "Epoch: 4 \t Training Loss: 0.037147\n",
      "Epoch: 5 \t Training Loss: 0.019478\n",
      "Validation roc_auc with current hyperparameters: 0.9765600253405131\n",
      "Training with hyperparameters: {'dropout': 0.0, 'hidden_size': 256, 'learning_rate': 0.01}\n",
      "current_model: RNN_Rev(\n",
      "  (embedding): Embedding(7328, 128)\n",
      "  (rnn): GRU(128, 256, batch_first=True)\n",
      "  (rev_rnn): GRU(128, 256, batch_first=True)\n",
      "  (fc): Linear(in_features=512, out_features=1, bias=True)\n",
      "  (sigmoid): Sigmoid()\n",
      ")\n",
      "Epoch: 1 \t Training Loss: 0.342446\n",
      "Epoch: 2 \t Training Loss: 0.050552\n",
      "Epoch: 3 \t Training Loss: 0.006550\n",
      "Epoch: 4 \t Training Loss: 0.000747\n",
      "Epoch: 5 \t Training Loss: 0.000427\n",
      "Validation roc_auc with current hyperparameters: 0.9816281279695913\n",
      "Training with hyperparameters: {'dropout': 0.0, 'hidden_size': 256, 'learning_rate': 0.1}\n",
      "current_model: RNN_Rev(\n",
      "  (embedding): Embedding(7328, 128)\n",
      "  (rnn): GRU(128, 256, batch_first=True)\n",
      "  (rev_rnn): GRU(128, 256, batch_first=True)\n",
      "  (fc): Linear(in_features=512, out_features=1, bias=True)\n",
      "  (sigmoid): Sigmoid()\n",
      ")\n",
      "Epoch: 1 \t Training Loss: 1.122585\n",
      "Epoch: 2 \t Training Loss: 0.267720\n",
      "Epoch: 3 \t Training Loss: 0.129323\n",
      "Epoch: 4 \t Training Loss: 0.153081\n",
      "Epoch: 5 \t Training Loss: 0.159200\n",
      "Validation roc_auc with current hyperparameters: 0.9565515785027979\n",
      "Training with hyperparameters: {'dropout': 0.1, 'hidden_size': 64, 'learning_rate': 0.001}\n",
      "current_model: RNN_Rev(\n",
      "  (embedding): Embedding(7328, 128)\n",
      "  (rnn): GRU(128, 64, batch_first=True)\n",
      "  (rev_rnn): GRU(128, 64, batch_first=True)\n",
      "  (fc): Linear(in_features=128, out_features=1, bias=True)\n",
      "  (sigmoid): Sigmoid()\n",
      ")\n",
      "Epoch: 1 \t Training Loss: 0.642278\n",
      "Epoch: 2 \t Training Loss: 0.444524\n",
      "Epoch: 3 \t Training Loss: 0.293063\n",
      "Epoch: 4 \t Training Loss: 0.183441\n",
      "Epoch: 5 \t Training Loss: 0.113388\n",
      "Validation roc_auc with current hyperparameters: 0.9389715975081828\n",
      "Training with hyperparameters: {'dropout': 0.1, 'hidden_size': 64, 'learning_rate': 0.01}\n",
      "current_model: RNN_Rev(\n",
      "  (embedding): Embedding(7328, 128)\n",
      "  (rnn): GRU(128, 64, batch_first=True)\n",
      "  (rev_rnn): GRU(128, 64, batch_first=True)\n",
      "  (fc): Linear(in_features=128, out_features=1, bias=True)\n",
      "  (sigmoid): Sigmoid()\n",
      ")\n",
      "Epoch: 1 \t Training Loss: 0.371762\n",
      "Epoch: 2 \t Training Loss: 0.043309\n",
      "Epoch: 3 \t Training Loss: 0.004975\n",
      "Epoch: 4 \t Training Loss: 0.001767\n",
      "Epoch: 5 \t Training Loss: 0.001055\n",
      "Validation roc_auc with current hyperparameters: 0.9880688417273784\n",
      "Training with hyperparameters: {'dropout': 0.1, 'hidden_size': 64, 'learning_rate': 0.1}\n",
      "current_model: RNN_Rev(\n",
      "  (embedding): Embedding(7328, 128)\n",
      "  (rnn): GRU(128, 64, batch_first=True)\n",
      "  (rev_rnn): GRU(128, 64, batch_first=True)\n",
      "  (fc): Linear(in_features=128, out_features=1, bias=True)\n",
      "  (sigmoid): Sigmoid()\n",
      ")\n",
      "Epoch: 1 \t Training Loss: 0.476461\n",
      "Epoch: 2 \t Training Loss: 0.196990\n",
      "Epoch: 3 \t Training Loss: 0.093249\n",
      "Epoch: 4 \t Training Loss: 0.101010\n",
      "Epoch: 5 \t Training Loss: 0.100976\n",
      "Validation roc_auc with current hyperparameters: 0.9596663499102523\n",
      "Training with hyperparameters: {'dropout': 0.1, 'hidden_size': 128, 'learning_rate': 0.001}\n",
      "current_model: RNN_Rev(\n",
      "  (embedding): Embedding(7328, 128)\n",
      "  (rnn): GRU(128, 128, batch_first=True)\n",
      "  (rev_rnn): GRU(128, 128, batch_first=True)\n",
      "  (fc): Linear(in_features=256, out_features=1, bias=True)\n",
      "  (sigmoid): Sigmoid()\n",
      ")\n",
      "Epoch: 1 \t Training Loss: 0.580986\n",
      "Epoch: 2 \t Training Loss: 0.315959\n",
      "Epoch: 3 \t Training Loss: 0.164007\n",
      "Epoch: 4 \t Training Loss: 0.079304\n",
      "Epoch: 5 \t Training Loss: 0.041660\n",
      "Validation roc_auc with current hyperparameters: 0.9668461619681131\n",
      "Training with hyperparameters: {'dropout': 0.1, 'hidden_size': 128, 'learning_rate': 0.01}\n",
      "current_model: RNN_Rev(\n",
      "  (embedding): Embedding(7328, 128)\n",
      "  (rnn): GRU(128, 128, batch_first=True)\n",
      "  (rev_rnn): GRU(128, 128, batch_first=True)\n",
      "  (fc): Linear(in_features=256, out_features=1, bias=True)\n",
      "  (sigmoid): Sigmoid()\n",
      ")\n",
      "Epoch: 1 \t Training Loss: 0.371674\n",
      "Epoch: 2 \t Training Loss: 0.041990\n",
      "Epoch: 3 \t Training Loss: 0.003042\n",
      "Epoch: 4 \t Training Loss: 0.000969\n",
      "Epoch: 5 \t Training Loss: 0.000598\n",
      "Validation roc_auc with current hyperparameters: 0.9770879526977088\n",
      "Training with hyperparameters: {'dropout': 0.1, 'hidden_size': 128, 'learning_rate': 0.1}\n",
      "current_model: RNN_Rev(\n",
      "  (embedding): Embedding(7328, 128)\n",
      "  (rnn): GRU(128, 128, batch_first=True)\n",
      "  (rev_rnn): GRU(128, 128, batch_first=True)\n",
      "  (fc): Linear(in_features=256, out_features=1, bias=True)\n",
      "  (sigmoid): Sigmoid()\n",
      ")\n",
      "Epoch: 1 \t Training Loss: 0.596105\n",
      "Epoch: 2 \t Training Loss: 0.294151\n",
      "Epoch: 3 \t Training Loss: 0.181155\n",
      "Epoch: 4 \t Training Loss: 0.194884\n",
      "Epoch: 5 \t Training Loss: 0.215497\n",
      "Validation roc_auc with current hyperparameters: 0.9653151726322458\n",
      "Training with hyperparameters: {'dropout': 0.1, 'hidden_size': 256, 'learning_rate': 0.001}\n",
      "current_model: RNN_Rev(\n",
      "  (embedding): Embedding(7328, 128)\n",
      "  (rnn): GRU(128, 256, batch_first=True)\n",
      "  (rev_rnn): GRU(128, 256, batch_first=True)\n",
      "  (fc): Linear(in_features=512, out_features=1, bias=True)\n",
      "  (sigmoid): Sigmoid()\n",
      ")\n",
      "Epoch: 1 \t Training Loss: 0.486237\n",
      "Epoch: 2 \t Training Loss: 0.184080\n",
      "Epoch: 3 \t Training Loss: 0.076193\n",
      "Epoch: 4 \t Training Loss: 0.032426\n",
      "Epoch: 5 \t Training Loss: 0.017512\n",
      "Validation roc_auc with current hyperparameters: 0.9567099567099567\n",
      "Training with hyperparameters: {'dropout': 0.1, 'hidden_size': 256, 'learning_rate': 0.01}\n",
      "current_model: RNN_Rev(\n",
      "  (embedding): Embedding(7328, 128)\n",
      "  (rnn): GRU(128, 256, batch_first=True)\n",
      "  (rev_rnn): GRU(128, 256, batch_first=True)\n",
      "  (fc): Linear(in_features=512, out_features=1, bias=True)\n",
      "  (sigmoid): Sigmoid()\n",
      ")\n",
      "Epoch: 1 \t Training Loss: 0.351796\n",
      "Epoch: 2 \t Training Loss: 0.038663\n",
      "Epoch: 3 \t Training Loss: 0.001446\n",
      "Epoch: 4 \t Training Loss: 0.000570\n",
      "Epoch: 5 \t Training Loss: 0.000332\n",
      "Validation roc_auc with current hyperparameters: 0.9844789356984478\n",
      "Training with hyperparameters: {'dropout': 0.1, 'hidden_size': 256, 'learning_rate': 0.1}\n",
      "current_model: RNN_Rev(\n",
      "  (embedding): Embedding(7328, 128)\n",
      "  (rnn): GRU(128, 256, batch_first=True)\n",
      "  (rev_rnn): GRU(128, 256, batch_first=True)\n",
      "  (fc): Linear(in_features=512, out_features=1, bias=True)\n",
      "  (sigmoid): Sigmoid()\n",
      ")\n",
      "Epoch: 1 \t Training Loss: 1.274012\n",
      "Epoch: 2 \t Training Loss: 0.689794\n",
      "Epoch: 3 \t Training Loss: 0.302786\n",
      "Epoch: 4 \t Training Loss: 0.257834\n",
      "Epoch: 5 \t Training Loss: 0.231145\n",
      "Validation roc_auc with current hyperparameters: 0.9778798437335023\n",
      "Best hyperparameters: {'dropout': 0.1, 'hidden_size': 64, 'learning_rate': 0.01}\n",
      "Best roc_auc score: 0.9880688417273784\n",
      "Epoch: 1 \t Training Loss: 0.381962\n",
      "Epoch: 2 \t Training Loss: 0.049634\n",
      "Epoch: 3 \t Training Loss: 0.005283\n",
      "Epoch: 4 \t Training Loss: 0.001732\n",
      "Epoch: 5 \t Training Loss: 0.001089\n"
     ]
    }
   ],
   "source": [
    "# Call the training function with hyperparameter tuning - RNN with a reversed input layer\n",
    "best_model_Rev = train_with_hyperparameter_tuning(RNN_Rev, train_loader, val_loader, n_epochs=5, param_grid=param_grid)"
   ]
  },
  {
   "cell_type": "code",
   "execution_count": 34,
   "metadata": {
    "colab": {
     "base_uri": "https://localhost:8080/"
    },
    "id": "0QrUPmft4KvA",
    "outputId": "44b78813-e47f-4d61-96ca-4998134e6eb8"
   },
   "outputs": [
    {
     "name": "stdout",
     "output_type": "stream",
     "text": [
      "Training with hyperparameters: {'dropout': 0.0, 'hidden_size': 64, 'learning_rate': 0.001}\n",
      "current_model: RNN_Pool(\n",
      "  (embedding): Embedding(7328, 128)\n",
      "  (rnn): GRU(128, 64, batch_first=True)\n",
      "  (maxpooling): AdaptiveMaxPool1d(output_size=64)\n",
      "  (fc): Linear(in_features=64, out_features=1, bias=True)\n",
      "  (sigmoid): Sigmoid()\n",
      ")\n",
      "Epoch: 1 \t Training Loss: 0.641524\n",
      "Epoch: 2 \t Training Loss: 0.457636\n",
      "Epoch: 3 \t Training Loss: 0.323237\n",
      "Epoch: 4 \t Training Loss: 0.214128\n",
      "Epoch: 5 \t Training Loss: 0.137468\n",
      "Validation roc_auc with current hyperparameters: 0.9571322985957132\n",
      "Training with hyperparameters: {'dropout': 0.0, 'hidden_size': 64, 'learning_rate': 0.01}\n",
      "current_model: RNN_Pool(\n",
      "  (embedding): Embedding(7328, 128)\n",
      "  (rnn): GRU(128, 64, batch_first=True)\n",
      "  (maxpooling): AdaptiveMaxPool1d(output_size=64)\n",
      "  (fc): Linear(in_features=64, out_features=1, bias=True)\n",
      "  (sigmoid): Sigmoid()\n",
      ")\n",
      "Epoch: 1 \t Training Loss: 0.427149\n",
      "Epoch: 2 \t Training Loss: 0.060968\n",
      "Epoch: 3 \t Training Loss: 0.008834\n",
      "Epoch: 4 \t Training Loss: 0.002707\n",
      "Epoch: 5 \t Training Loss: 0.001638\n",
      "Validation roc_auc with current hyperparameters: 0.9761376834547566\n",
      "Training with hyperparameters: {'dropout': 0.0, 'hidden_size': 64, 'learning_rate': 0.1}\n",
      "current_model: RNN_Pool(\n",
      "  (embedding): Embedding(7328, 128)\n",
      "  (rnn): GRU(128, 64, batch_first=True)\n",
      "  (maxpooling): AdaptiveMaxPool1d(output_size=64)\n",
      "  (fc): Linear(in_features=64, out_features=1, bias=True)\n",
      "  (sigmoid): Sigmoid()\n",
      ")\n",
      "Epoch: 1 \t Training Loss: 0.394967\n",
      "Epoch: 2 \t Training Loss: 0.122316\n",
      "Epoch: 3 \t Training Loss: 0.104134\n",
      "Epoch: 4 \t Training Loss: 0.095086\n",
      "Epoch: 5 \t Training Loss: 0.069333\n",
      "Validation roc_auc with current hyperparameters: 0.9681131876253827\n",
      "Training with hyperparameters: {'dropout': 0.0, 'hidden_size': 128, 'learning_rate': 0.001}\n",
      "current_model: RNN_Pool(\n",
      "  (embedding): Embedding(7328, 128)\n",
      "  (rnn): GRU(128, 128, batch_first=True)\n",
      "  (maxpooling): AdaptiveMaxPool1d(output_size=128)\n",
      "  (fc): Linear(in_features=128, out_features=1, bias=True)\n",
      "  (sigmoid): Sigmoid()\n",
      ")\n",
      "Epoch: 1 \t Training Loss: 0.561984\n",
      "Epoch: 2 \t Training Loss: 0.316462\n",
      "Epoch: 3 \t Training Loss: 0.175344\n",
      "Epoch: 4 \t Training Loss: 0.091100\n",
      "Epoch: 5 \t Training Loss: 0.053519\n",
      "Validation roc_auc with current hyperparameters: 0.9564987857670785\n",
      "Training with hyperparameters: {'dropout': 0.0, 'hidden_size': 128, 'learning_rate': 0.01}\n",
      "current_model: RNN_Pool(\n",
      "  (embedding): Embedding(7328, 128)\n",
      "  (rnn): GRU(128, 128, batch_first=True)\n",
      "  (maxpooling): AdaptiveMaxPool1d(output_size=128)\n",
      "  (fc): Linear(in_features=128, out_features=1, bias=True)\n",
      "  (sigmoid): Sigmoid()\n",
      ")\n",
      "Epoch: 1 \t Training Loss: 0.366437\n",
      "Epoch: 2 \t Training Loss: 0.042117\n",
      "Epoch: 3 \t Training Loss: 0.004805\n",
      "Epoch: 4 \t Training Loss: 0.001608\n",
      "Epoch: 5 \t Training Loss: 0.000897\n",
      "Validation roc_auc with current hyperparameters: 0.9785661492978566\n",
      "Training with hyperparameters: {'dropout': 0.0, 'hidden_size': 128, 'learning_rate': 0.1}\n",
      "current_model: RNN_Pool(\n",
      "  (embedding): Embedding(7328, 128)\n",
      "  (rnn): GRU(128, 128, batch_first=True)\n",
      "  (maxpooling): AdaptiveMaxPool1d(output_size=128)\n",
      "  (fc): Linear(in_features=128, out_features=1, bias=True)\n",
      "  (sigmoid): Sigmoid()\n",
      ")\n",
      "Epoch: 1 \t Training Loss: 0.508149\n",
      "Epoch: 2 \t Training Loss: 0.156505\n",
      "Epoch: 3 \t Training Loss: 0.112639\n",
      "Epoch: 4 \t Training Loss: 0.100712\n",
      "Epoch: 5 \t Training Loss: 0.052535\n",
      "Validation roc_auc with current hyperparameters: 0.9540703199239784\n",
      "Training with hyperparameters: {'dropout': 0.0, 'hidden_size': 256, 'learning_rate': 0.001}\n",
      "current_model: RNN_Pool(\n",
      "  (embedding): Embedding(7328, 128)\n",
      "  (rnn): GRU(128, 256, batch_first=True)\n",
      "  (maxpooling): AdaptiveMaxPool1d(output_size=256)\n",
      "  (fc): Linear(in_features=256, out_features=1, bias=True)\n",
      "  (sigmoid): Sigmoid()\n",
      ")\n",
      "Epoch: 1 \t Training Loss: 0.496319\n",
      "Epoch: 2 \t Training Loss: 0.212336\n",
      "Epoch: 3 \t Training Loss: 0.099202\n",
      "Epoch: 4 \t Training Loss: 0.047365\n",
      "Epoch: 5 \t Training Loss: 0.026224\n",
      "Validation roc_auc with current hyperparameters: 0.9696969696969696\n",
      "Training with hyperparameters: {'dropout': 0.0, 'hidden_size': 256, 'learning_rate': 0.01}\n",
      "current_model: RNN_Pool(\n",
      "  (embedding): Embedding(7328, 128)\n",
      "  (rnn): GRU(128, 256, batch_first=True)\n",
      "  (maxpooling): AdaptiveMaxPool1d(output_size=256)\n",
      "  (fc): Linear(in_features=256, out_features=1, bias=True)\n",
      "  (sigmoid): Sigmoid()\n",
      ")\n",
      "Epoch: 1 \t Training Loss: 0.402118\n",
      "Epoch: 2 \t Training Loss: 0.049298\n",
      "Epoch: 3 \t Training Loss: 0.003584\n",
      "Epoch: 4 \t Training Loss: 0.001046\n",
      "Epoch: 5 \t Training Loss: 0.000545\n",
      "Validation roc_auc with current hyperparameters: 0.9720198500686306\n",
      "Training with hyperparameters: {'dropout': 0.0, 'hidden_size': 256, 'learning_rate': 0.1}\n",
      "current_model: RNN_Pool(\n",
      "  (embedding): Embedding(7328, 128)\n",
      "  (rnn): GRU(128, 256, batch_first=True)\n",
      "  (maxpooling): AdaptiveMaxPool1d(output_size=256)\n",
      "  (fc): Linear(in_features=256, out_features=1, bias=True)\n",
      "  (sigmoid): Sigmoid()\n",
      ")\n",
      "Epoch: 1 \t Training Loss: 0.622737\n",
      "Epoch: 2 \t Training Loss: 0.215180\n",
      "Epoch: 3 \t Training Loss: 0.163759\n",
      "Epoch: 4 \t Training Loss: 0.175103\n",
      "Epoch: 5 \t Training Loss: 0.153498\n",
      "Validation roc_auc with current hyperparameters: 0.9392355611867808\n",
      "Training with hyperparameters: {'dropout': 0.1, 'hidden_size': 64, 'learning_rate': 0.001}\n",
      "current_model: RNN_Pool(\n",
      "  (embedding): Embedding(7328, 128)\n",
      "  (rnn): GRU(128, 64, batch_first=True)\n",
      "  (maxpooling): AdaptiveMaxPool1d(output_size=64)\n",
      "  (fc): Linear(in_features=64, out_features=1, bias=True)\n",
      "  (sigmoid): Sigmoid()\n",
      ")\n",
      "Epoch: 1 \t Training Loss: 0.624498\n",
      "Epoch: 2 \t Training Loss: 0.450904\n",
      "Epoch: 3 \t Training Loss: 0.317204\n",
      "Epoch: 4 \t Training Loss: 0.214000\n",
      "Epoch: 5 \t Training Loss: 0.142049\n",
      "Validation roc_auc with current hyperparameters: 0.9453067257945307\n",
      "Training with hyperparameters: {'dropout': 0.1, 'hidden_size': 64, 'learning_rate': 0.01}\n",
      "current_model: RNN_Pool(\n",
      "  (embedding): Embedding(7328, 128)\n",
      "  (rnn): GRU(128, 64, batch_first=True)\n",
      "  (maxpooling): AdaptiveMaxPool1d(output_size=64)\n",
      "  (fc): Linear(in_features=64, out_features=1, bias=True)\n",
      "  (sigmoid): Sigmoid()\n",
      ")\n",
      "Epoch: 1 \t Training Loss: 0.402365\n",
      "Epoch: 2 \t Training Loss: 0.057441\n",
      "Epoch: 3 \t Training Loss: 0.011322\n",
      "Epoch: 4 \t Training Loss: 0.003455\n",
      "Epoch: 5 \t Training Loss: 0.001685\n",
      "Validation roc_auc with current hyperparameters: 0.9660014781966\n",
      "Training with hyperparameters: {'dropout': 0.1, 'hidden_size': 64, 'learning_rate': 0.1}\n",
      "current_model: RNN_Pool(\n",
      "  (embedding): Embedding(7328, 128)\n",
      "  (rnn): GRU(128, 64, batch_first=True)\n",
      "  (maxpooling): AdaptiveMaxPool1d(output_size=64)\n",
      "  (fc): Linear(in_features=64, out_features=1, bias=True)\n",
      "  (sigmoid): Sigmoid()\n",
      ")\n",
      "Epoch: 1 \t Training Loss: 0.431238\n",
      "Epoch: 2 \t Training Loss: 0.174878\n",
      "Epoch: 3 \t Training Loss: 0.106415\n",
      "Epoch: 4 \t Training Loss: 0.082665\n",
      "Epoch: 5 \t Training Loss: 0.090924\n",
      "Validation roc_auc with current hyperparameters: 0.9672685038538696\n",
      "Training with hyperparameters: {'dropout': 0.1, 'hidden_size': 128, 'learning_rate': 0.001}\n",
      "current_model: RNN_Pool(\n",
      "  (embedding): Embedding(7328, 128)\n",
      "  (rnn): GRU(128, 128, batch_first=True)\n",
      "  (maxpooling): AdaptiveMaxPool1d(output_size=128)\n",
      "  (fc): Linear(in_features=128, out_features=1, bias=True)\n",
      "  (sigmoid): Sigmoid()\n",
      ")\n",
      "Epoch: 1 \t Training Loss: 0.570847\n",
      "Epoch: 2 \t Training Loss: 0.324610\n",
      "Epoch: 3 \t Training Loss: 0.181004\n",
      "Epoch: 4 \t Training Loss: 0.098884\n",
      "Epoch: 5 \t Training Loss: 0.058051\n",
      "Validation roc_auc with current hyperparameters: 0.9633618414106218\n",
      "Training with hyperparameters: {'dropout': 0.1, 'hidden_size': 128, 'learning_rate': 0.01}\n",
      "current_model: RNN_Pool(\n",
      "  (embedding): Embedding(7328, 128)\n",
      "  (rnn): GRU(128, 128, batch_first=True)\n",
      "  (maxpooling): AdaptiveMaxPool1d(output_size=128)\n",
      "  (fc): Linear(in_features=128, out_features=1, bias=True)\n",
      "  (sigmoid): Sigmoid()\n",
      ")\n",
      "Epoch: 1 \t Training Loss: 0.338847\n",
      "Epoch: 2 \t Training Loss: 0.034457\n",
      "Epoch: 3 \t Training Loss: 0.004352\n",
      "Epoch: 4 \t Training Loss: 0.001430\n",
      "Epoch: 5 \t Training Loss: 0.000801\n",
      "Validation roc_auc with current hyperparameters: 0.9849012775842043\n",
      "Training with hyperparameters: {'dropout': 0.1, 'hidden_size': 128, 'learning_rate': 0.1}\n",
      "current_model: RNN_Pool(\n",
      "  (embedding): Embedding(7328, 128)\n",
      "  (rnn): GRU(128, 128, batch_first=True)\n",
      "  (maxpooling): AdaptiveMaxPool1d(output_size=128)\n",
      "  (fc): Linear(in_features=128, out_features=1, bias=True)\n",
      "  (sigmoid): Sigmoid()\n",
      ")\n",
      "Epoch: 1 \t Training Loss: 0.474399\n",
      "Epoch: 2 \t Training Loss: 0.143322\n",
      "Epoch: 3 \t Training Loss: 0.138277\n",
      "Epoch: 4 \t Training Loss: 0.113831\n",
      "Epoch: 5 \t Training Loss: 0.120624\n",
      "Validation roc_auc with current hyperparameters: 0.9745539013831697\n",
      "Training with hyperparameters: {'dropout': 0.1, 'hidden_size': 256, 'learning_rate': 0.001}\n",
      "current_model: RNN_Pool(\n",
      "  (embedding): Embedding(7328, 128)\n",
      "  (rnn): GRU(128, 256, batch_first=True)\n",
      "  (maxpooling): AdaptiveMaxPool1d(output_size=256)\n",
      "  (fc): Linear(in_features=256, out_features=1, bias=True)\n",
      "  (sigmoid): Sigmoid()\n",
      ")\n",
      "Epoch: 1 \t Training Loss: 0.502678\n",
      "Epoch: 2 \t Training Loss: 0.225652\n",
      "Epoch: 3 \t Training Loss: 0.098630\n",
      "Epoch: 4 \t Training Loss: 0.050468\n",
      "Epoch: 5 \t Training Loss: 0.028887\n",
      "Validation roc_auc with current hyperparameters: 0.9666349910252349\n",
      "Training with hyperparameters: {'dropout': 0.1, 'hidden_size': 256, 'learning_rate': 0.01}\n",
      "current_model: RNN_Pool(\n",
      "  (embedding): Embedding(7328, 128)\n",
      "  (rnn): GRU(128, 256, batch_first=True)\n",
      "  (maxpooling): AdaptiveMaxPool1d(output_size=256)\n",
      "  (fc): Linear(in_features=256, out_features=1, bias=True)\n",
      "  (sigmoid): Sigmoid()\n",
      ")\n",
      "Epoch: 1 \t Training Loss: 0.357550\n",
      "Epoch: 2 \t Training Loss: 0.041249\n",
      "Epoch: 3 \t Training Loss: 0.005110\n",
      "Epoch: 4 \t Training Loss: 0.001166\n",
      "Epoch: 5 \t Training Loss: 0.000601\n",
      "Validation roc_auc with current hyperparameters: 0.9758209270404393\n",
      "Training with hyperparameters: {'dropout': 0.1, 'hidden_size': 256, 'learning_rate': 0.1}\n",
      "current_model: RNN_Pool(\n",
      "  (embedding): Embedding(7328, 128)\n",
      "  (rnn): GRU(128, 256, batch_first=True)\n",
      "  (maxpooling): AdaptiveMaxPool1d(output_size=256)\n",
      "  (fc): Linear(in_features=256, out_features=1, bias=True)\n",
      "  (sigmoid): Sigmoid()\n",
      ")\n",
      "Epoch: 1 \t Training Loss: 0.846722\n",
      "Epoch: 2 \t Training Loss: 0.272565\n",
      "Epoch: 3 \t Training Loss: 0.170908\n",
      "Epoch: 4 \t Training Loss: 0.116783\n",
      "Epoch: 5 \t Training Loss: 0.069131\n",
      "Validation roc_auc with current hyperparameters: 0.984954070319924\n",
      "Best hyperparameters: {'dropout': 0.1, 'hidden_size': 256, 'learning_rate': 0.1}\n",
      "Best roc_auc score: 0.984954070319924\n",
      "Epoch: 1 \t Training Loss: 0.668141\n",
      "Epoch: 2 \t Training Loss: 0.191470\n",
      "Epoch: 3 \t Training Loss: 0.177611\n",
      "Epoch: 4 \t Training Loss: 0.099448\n",
      "Epoch: 5 \t Training Loss: 0.142994\n"
     ]
    }
   ],
   "source": [
    "# Call the training function with hyperparameter tuning - RNN with global max-pooling\n",
    "best_model_pool = train_with_hyperparameter_tuning(RNN_Pool, train_loader, val_loader, n_epochs=5, param_grid=param_grid)"
   ]
  },
  {
   "cell_type": "code",
   "execution_count": 35,
   "metadata": {
    "colab": {
     "base_uri": "https://localhost:8080/"
    },
    "id": "9p7ZlNNydEFF",
    "outputId": "af130456-9f2f-47cc-c592-7cd411c075c9"
   },
   "outputs": [
    {
     "name": "stdout",
     "output_type": "stream",
     "text": [
      "Training with hyperparameters: {'dropout': 0.0, 'hidden_size': 64, 'learning_rate': 0.001}\n",
      "current_model: RNN_Rev_Pool(\n",
      "  (embedding): Embedding(7328, 128)\n",
      "  (rnn): GRU(128, 64, batch_first=True)\n",
      "  (rev_rnn): GRU(128, 64, batch_first=True)\n",
      "  (maxpooling): AdaptiveMaxPool1d(output_size=64)\n",
      "  (fc): Linear(in_features=128, out_features=1, bias=True)\n",
      "  (sigmoid): Sigmoid()\n",
      ")\n",
      "Epoch: 1 \t Training Loss: 0.625533\n",
      "Epoch: 2 \t Training Loss: 0.424836\n",
      "Epoch: 3 \t Training Loss: 0.274882\n",
      "Epoch: 4 \t Training Loss: 0.167273\n",
      "Epoch: 5 \t Training Loss: 0.100151\n",
      "Validation roc_auc with current hyperparameters: 0.9677964312110653\n",
      "Training with hyperparameters: {'dropout': 0.0, 'hidden_size': 64, 'learning_rate': 0.01}\n",
      "current_model: RNN_Rev_Pool(\n",
      "  (embedding): Embedding(7328, 128)\n",
      "  (rnn): GRU(128, 64, batch_first=True)\n",
      "  (rev_rnn): GRU(128, 64, batch_first=True)\n",
      "  (maxpooling): AdaptiveMaxPool1d(output_size=64)\n",
      "  (fc): Linear(in_features=128, out_features=1, bias=True)\n",
      "  (sigmoid): Sigmoid()\n",
      ")\n",
      "Epoch: 1 \t Training Loss: 0.371694\n",
      "Epoch: 2 \t Training Loss: 0.057033\n",
      "Epoch: 3 \t Training Loss: 0.010509\n",
      "Epoch: 4 \t Training Loss: 0.002922\n",
      "Epoch: 5 \t Training Loss: 0.001393\n",
      "Validation roc_auc with current hyperparameters: 0.982895153626861\n",
      "Training with hyperparameters: {'dropout': 0.0, 'hidden_size': 64, 'learning_rate': 0.1}\n",
      "current_model: RNN_Rev_Pool(\n",
      "  (embedding): Embedding(7328, 128)\n",
      "  (rnn): GRU(128, 64, batch_first=True)\n",
      "  (rev_rnn): GRU(128, 64, batch_first=True)\n",
      "  (maxpooling): AdaptiveMaxPool1d(output_size=64)\n",
      "  (fc): Linear(in_features=128, out_features=1, bias=True)\n",
      "  (sigmoid): Sigmoid()\n",
      ")\n",
      "Epoch: 1 \t Training Loss: 0.402179\n",
      "Epoch: 2 \t Training Loss: 0.186012\n",
      "Epoch: 3 \t Training Loss: 0.110417\n",
      "Epoch: 4 \t Training Loss: 0.088159\n",
      "Epoch: 5 \t Training Loss: 0.064449\n",
      "Validation roc_auc with current hyperparameters: 0.9526977087952697\n",
      "Training with hyperparameters: {'dropout': 0.0, 'hidden_size': 128, 'learning_rate': 0.001}\n",
      "current_model: RNN_Rev_Pool(\n",
      "  (embedding): Embedding(7328, 128)\n",
      "  (rnn): GRU(128, 128, batch_first=True)\n",
      "  (rev_rnn): GRU(128, 128, batch_first=True)\n",
      "  (maxpooling): AdaptiveMaxPool1d(output_size=128)\n",
      "  (fc): Linear(in_features=256, out_features=1, bias=True)\n",
      "  (sigmoid): Sigmoid()\n",
      ")\n",
      "Epoch: 1 \t Training Loss: 0.566923\n",
      "Epoch: 2 \t Training Loss: 0.311311\n",
      "Epoch: 3 \t Training Loss: 0.163355\n",
      "Epoch: 4 \t Training Loss: 0.076427\n",
      "Epoch: 5 \t Training Loss: 0.038657\n",
      "Validation roc_auc with current hyperparameters: 0.9666349910252349\n",
      "Training with hyperparameters: {'dropout': 0.0, 'hidden_size': 128, 'learning_rate': 0.01}\n",
      "current_model: RNN_Rev_Pool(\n",
      "  (embedding): Embedding(7328, 128)\n",
      "  (rnn): GRU(128, 128, batch_first=True)\n",
      "  (rev_rnn): GRU(128, 128, batch_first=True)\n",
      "  (maxpooling): AdaptiveMaxPool1d(output_size=128)\n",
      "  (fc): Linear(in_features=256, out_features=1, bias=True)\n",
      "  (sigmoid): Sigmoid()\n",
      ")\n",
      "Epoch: 1 \t Training Loss: 0.361165\n",
      "Epoch: 2 \t Training Loss: 0.048928\n",
      "Epoch: 3 \t Training Loss: 0.003820\n",
      "Epoch: 4 \t Training Loss: 0.001079\n",
      "Epoch: 5 \t Training Loss: 0.000618\n",
      "Validation roc_auc with current hyperparameters: 0.9875409143701827\n",
      "Training with hyperparameters: {'dropout': 0.0, 'hidden_size': 128, 'learning_rate': 0.1}\n",
      "current_model: RNN_Rev_Pool(\n",
      "  (embedding): Embedding(7328, 128)\n",
      "  (rnn): GRU(128, 128, batch_first=True)\n",
      "  (rev_rnn): GRU(128, 128, batch_first=True)\n",
      "  (maxpooling): AdaptiveMaxPool1d(output_size=128)\n",
      "  (fc): Linear(in_features=256, out_features=1, bias=True)\n",
      "  (sigmoid): Sigmoid()\n",
      ")\n",
      "Epoch: 1 \t Training Loss: 0.662963\n",
      "Epoch: 2 \t Training Loss: 0.295808\n",
      "Epoch: 3 \t Training Loss: 0.237042\n",
      "Epoch: 4 \t Training Loss: 0.154338\n",
      "Epoch: 5 \t Training Loss: 0.177900\n",
      "Validation roc_auc with current hyperparameters: 0.9760320979833175\n",
      "Training with hyperparameters: {'dropout': 0.0, 'hidden_size': 256, 'learning_rate': 0.001}\n",
      "current_model: RNN_Rev_Pool(\n",
      "  (embedding): Embedding(7328, 128)\n",
      "  (rnn): GRU(128, 256, batch_first=True)\n",
      "  (rev_rnn): GRU(128, 256, batch_first=True)\n",
      "  (maxpooling): AdaptiveMaxPool1d(output_size=256)\n",
      "  (fc): Linear(in_features=512, out_features=1, bias=True)\n",
      "  (sigmoid): Sigmoid()\n",
      ")\n",
      "Epoch: 1 \t Training Loss: 0.498424\n",
      "Epoch: 2 \t Training Loss: 0.203945\n",
      "Epoch: 3 \t Training Loss: 0.077284\n",
      "Epoch: 4 \t Training Loss: 0.034471\n",
      "Epoch: 5 \t Training Loss: 0.018527\n",
      "Validation roc_auc with current hyperparameters: 0.9672685038538698\n",
      "Training with hyperparameters: {'dropout': 0.0, 'hidden_size': 256, 'learning_rate': 0.01}\n",
      "current_model: RNN_Rev_Pool(\n",
      "  (embedding): Embedding(7328, 128)\n",
      "  (rnn): GRU(128, 256, batch_first=True)\n",
      "  (rev_rnn): GRU(128, 256, batch_first=True)\n",
      "  (maxpooling): AdaptiveMaxPool1d(output_size=256)\n",
      "  (fc): Linear(in_features=512, out_features=1, bias=True)\n",
      "  (sigmoid): Sigmoid()\n",
      ")\n",
      "Epoch: 1 \t Training Loss: 0.407249\n",
      "Epoch: 2 \t Training Loss: 0.051978\n",
      "Epoch: 3 \t Training Loss: 0.004760\n",
      "Epoch: 4 \t Training Loss: 0.001141\n",
      "Epoch: 5 \t Training Loss: 0.000500\n",
      "Validation roc_auc with current hyperparameters: 0.9877520853130609\n",
      "Training with hyperparameters: {'dropout': 0.0, 'hidden_size': 256, 'learning_rate': 0.1}\n",
      "current_model: RNN_Rev_Pool(\n",
      "  (embedding): Embedding(7328, 128)\n",
      "  (rnn): GRU(128, 256, batch_first=True)\n",
      "  (rev_rnn): GRU(128, 256, batch_first=True)\n",
      "  (maxpooling): AdaptiveMaxPool1d(output_size=256)\n",
      "  (fc): Linear(in_features=512, out_features=1, bias=True)\n",
      "  (sigmoid): Sigmoid()\n",
      ")\n",
      "Epoch: 1 \t Training Loss: 2.512437\n",
      "Epoch: 2 \t Training Loss: 0.692363\n",
      "Epoch: 3 \t Training Loss: 0.374450\n",
      "Epoch: 4 \t Training Loss: 0.360239\n",
      "Epoch: 5 \t Training Loss: 0.169154\n",
      "Validation roc_auc with current hyperparameters: 0.9774575018477456\n",
      "Training with hyperparameters: {'dropout': 0.1, 'hidden_size': 64, 'learning_rate': 0.001}\n",
      "current_model: RNN_Rev_Pool(\n",
      "  (embedding): Embedding(7328, 128)\n",
      "  (rnn): GRU(128, 64, batch_first=True)\n",
      "  (rev_rnn): GRU(128, 64, batch_first=True)\n",
      "  (maxpooling): AdaptiveMaxPool1d(output_size=64)\n",
      "  (fc): Linear(in_features=128, out_features=1, bias=True)\n",
      "  (sigmoid): Sigmoid()\n",
      ")\n",
      "Epoch: 1 \t Training Loss: 0.620512\n",
      "Epoch: 2 \t Training Loss: 0.411651\n",
      "Epoch: 3 \t Training Loss: 0.256847\n",
      "Epoch: 4 \t Training Loss: 0.156133\n",
      "Epoch: 5 \t Training Loss: 0.094908\n",
      "Validation roc_auc with current hyperparameters: 0.9611445465104002\n",
      "Training with hyperparameters: {'dropout': 0.1, 'hidden_size': 64, 'learning_rate': 0.01}\n",
      "current_model: RNN_Rev_Pool(\n",
      "  (embedding): Embedding(7328, 128)\n",
      "  (rnn): GRU(128, 64, batch_first=True)\n",
      "  (rev_rnn): GRU(128, 64, batch_first=True)\n",
      "  (maxpooling): AdaptiveMaxPool1d(output_size=64)\n",
      "  (fc): Linear(in_features=128, out_features=1, bias=True)\n",
      "  (sigmoid): Sigmoid()\n",
      ")\n",
      "Epoch: 1 \t Training Loss: 0.374998\n",
      "Epoch: 2 \t Training Loss: 0.050111\n",
      "Epoch: 3 \t Training Loss: 0.004878\n",
      "Epoch: 4 \t Training Loss: 0.001960\n",
      "Epoch: 5 \t Training Loss: 0.001132\n",
      "Validation roc_auc with current hyperparameters: 0.9831063245697392\n",
      "Training with hyperparameters: {'dropout': 0.1, 'hidden_size': 64, 'learning_rate': 0.1}\n",
      "current_model: RNN_Rev_Pool(\n",
      "  (embedding): Embedding(7328, 128)\n",
      "  (rnn): GRU(128, 64, batch_first=True)\n",
      "  (rev_rnn): GRU(128, 64, batch_first=True)\n",
      "  (maxpooling): AdaptiveMaxPool1d(output_size=64)\n",
      "  (fc): Linear(in_features=128, out_features=1, bias=True)\n",
      "  (sigmoid): Sigmoid()\n",
      ")\n",
      "Epoch: 1 \t Training Loss: 0.511004\n",
      "Epoch: 2 \t Training Loss: 0.169952\n",
      "Epoch: 3 \t Training Loss: 0.145083\n",
      "Epoch: 4 \t Training Loss: 0.111115\n",
      "Epoch: 5 \t Training Loss: 0.089944\n",
      "Validation roc_auc with current hyperparameters: 0.9506915848379264\n",
      "Training with hyperparameters: {'dropout': 0.1, 'hidden_size': 128, 'learning_rate': 0.001}\n",
      "current_model: RNN_Rev_Pool(\n",
      "  (embedding): Embedding(7328, 128)\n",
      "  (rnn): GRU(128, 128, batch_first=True)\n",
      "  (rev_rnn): GRU(128, 128, batch_first=True)\n",
      "  (maxpooling): AdaptiveMaxPool1d(output_size=128)\n",
      "  (fc): Linear(in_features=256, out_features=1, bias=True)\n",
      "  (sigmoid): Sigmoid()\n",
      ")\n",
      "Epoch: 1 \t Training Loss: 0.568687\n",
      "Epoch: 2 \t Training Loss: 0.311487\n",
      "Epoch: 3 \t Training Loss: 0.161491\n",
      "Epoch: 4 \t Training Loss: 0.082551\n",
      "Epoch: 5 \t Training Loss: 0.042943\n",
      "Validation roc_auc with current hyperparameters: 0.9644176961250133\n",
      "Training with hyperparameters: {'dropout': 0.1, 'hidden_size': 128, 'learning_rate': 0.01}\n",
      "current_model: RNN_Rev_Pool(\n",
      "  (embedding): Embedding(7328, 128)\n",
      "  (rnn): GRU(128, 128, batch_first=True)\n",
      "  (rev_rnn): GRU(128, 128, batch_first=True)\n",
      "  (maxpooling): AdaptiveMaxPool1d(output_size=128)\n",
      "  (fc): Linear(in_features=256, out_features=1, bias=True)\n",
      "  (sigmoid): Sigmoid()\n",
      ")\n",
      "Epoch: 1 \t Training Loss: 0.370165\n",
      "Epoch: 2 \t Training Loss: 0.033110\n",
      "Epoch: 3 \t Training Loss: 0.002700\n",
      "Epoch: 4 \t Training Loss: 0.000757\n",
      "Epoch: 5 \t Training Loss: 0.000485\n",
      "Validation roc_auc with current hyperparameters: 0.9777214655263435\n",
      "Training with hyperparameters: {'dropout': 0.1, 'hidden_size': 128, 'learning_rate': 0.1}\n",
      "current_model: RNN_Rev_Pool(\n",
      "  (embedding): Embedding(7328, 128)\n",
      "  (rnn): GRU(128, 128, batch_first=True)\n",
      "  (rev_rnn): GRU(128, 128, batch_first=True)\n",
      "  (maxpooling): AdaptiveMaxPool1d(output_size=128)\n",
      "  (fc): Linear(in_features=256, out_features=1, bias=True)\n",
      "  (sigmoid): Sigmoid()\n",
      ")\n",
      "Epoch: 1 \t Training Loss: 0.631886\n",
      "Epoch: 2 \t Training Loss: 0.167818\n",
      "Epoch: 3 \t Training Loss: 0.179837\n",
      "Epoch: 4 \t Training Loss: 0.210939\n",
      "Epoch: 5 \t Training Loss: 0.106332\n",
      "Validation roc_auc with current hyperparameters: 0.9774575018477457\n",
      "Training with hyperparameters: {'dropout': 0.1, 'hidden_size': 256, 'learning_rate': 0.001}\n",
      "current_model: RNN_Rev_Pool(\n",
      "  (embedding): Embedding(7328, 128)\n",
      "  (rnn): GRU(128, 256, batch_first=True)\n",
      "  (rev_rnn): GRU(128, 256, batch_first=True)\n",
      "  (maxpooling): AdaptiveMaxPool1d(output_size=256)\n",
      "  (fc): Linear(in_features=512, out_features=1, bias=True)\n",
      "  (sigmoid): Sigmoid()\n",
      ")\n",
      "Epoch: 1 \t Training Loss: 0.477636\n",
      "Epoch: 2 \t Training Loss: 0.185968\n",
      "Epoch: 3 \t Training Loss: 0.074361\n",
      "Epoch: 4 \t Training Loss: 0.034450\n",
      "Epoch: 5 \t Training Loss: 0.019171\n",
      "Validation roc_auc with current hyperparameters: 0.9692746278112131\n",
      "Training with hyperparameters: {'dropout': 0.1, 'hidden_size': 256, 'learning_rate': 0.01}\n",
      "current_model: RNN_Rev_Pool(\n",
      "  (embedding): Embedding(7328, 128)\n",
      "  (rnn): GRU(128, 256, batch_first=True)\n",
      "  (rev_rnn): GRU(128, 256, batch_first=True)\n",
      "  (maxpooling): AdaptiveMaxPool1d(output_size=256)\n",
      "  (fc): Linear(in_features=512, out_features=1, bias=True)\n",
      "  (sigmoid): Sigmoid()\n",
      ")\n",
      "Epoch: 1 \t Training Loss: 0.347629\n",
      "Epoch: 2 \t Training Loss: 0.035593\n",
      "Epoch: 3 \t Training Loss: 0.001617\n",
      "Epoch: 4 \t Training Loss: 0.000453\n",
      "Epoch: 5 \t Training Loss: 0.000293\n",
      "Validation roc_auc with current hyperparameters: 0.9856403758842782\n",
      "Training with hyperparameters: {'dropout': 0.1, 'hidden_size': 256, 'learning_rate': 0.1}\n",
      "current_model: RNN_Rev_Pool(\n",
      "  (embedding): Embedding(7328, 128)\n",
      "  (rnn): GRU(128, 256, batch_first=True)\n",
      "  (rev_rnn): GRU(128, 256, batch_first=True)\n",
      "  (maxpooling): AdaptiveMaxPool1d(output_size=256)\n",
      "  (fc): Linear(in_features=512, out_features=1, bias=True)\n",
      "  (sigmoid): Sigmoid()\n",
      ")\n",
      "Epoch: 1 \t Training Loss: 1.417705\n",
      "Epoch: 2 \t Training Loss: 0.441033\n",
      "Epoch: 3 \t Training Loss: 0.346895\n",
      "Epoch: 4 \t Training Loss: 0.374574\n",
      "Epoch: 5 \t Training Loss: 0.209351\n",
      "Validation roc_auc with current hyperparameters: 0.9632562559391827\n",
      "Best hyperparameters: {'dropout': 0.0, 'hidden_size': 256, 'learning_rate': 0.01}\n",
      "Best roc_auc score: 0.9877520853130609\n",
      "Epoch: 1 \t Training Loss: 0.358449\n",
      "Epoch: 2 \t Training Loss: 0.021619\n",
      "Epoch: 3 \t Training Loss: 0.001725\n",
      "Epoch: 4 \t Training Loss: 0.000633\n",
      "Epoch: 5 \t Training Loss: 0.000326\n"
     ]
    }
   ],
   "source": [
    "# Call the training function with hyperparameter  - RNN with global max-pooling + reversed input layer\n",
    "best_model_rev_pool = train_with_hyperparameter_tuning(RNN_Rev_Pool, train_loader, val_loader, n_epochs=5, param_grid=param_grid)"
   ]
  },
  {
   "cell_type": "markdown",
   "metadata": {
    "id": "a6IkqrW3c9jl"
   },
   "source": [
    "Evaluation\n",
    "\n",
    "* RNN without additional layers\n",
    "* RNN with a reversed input layer\n",
    "* RNN with global max-pooling\n",
    "* RNN with global max-pooling + reversed input layer"
   ]
  },
  {
   "cell_type": "code",
   "execution_count": 36,
   "metadata": {
    "colab": {
     "base_uri": "https://localhost:8080/"
    },
    "id": "4SV_RGvoc813",
    "outputId": "d05a2cb5-6538-438e-cb0e-6b91f28ac684"
   },
   "outputs": [
    {
     "name": "stdout",
     "output_type": "stream",
     "text": [
      "Precision: 0.9474\n",
      "Recall: 0.9351\n",
      "F1-score: 0.9412\n",
      "ROC AUC score: 0.9692\n"
     ]
    }
   ],
   "source": [
    "# RNN without additional layers\n",
    "p, r, f, roc_auc  = eval_model(best_model_RNN, val_loader)\n",
    "print(f'Precision: {p:.4f}')\n",
    "print(f'Recall: {r:.4f}')\n",
    "print(f'F1-score: {f:.4f}')\n",
    "print(f'ROC AUC score: {roc_auc:.4f}')"
   ]
  },
  {
   "cell_type": "code",
   "execution_count": 37,
   "metadata": {
    "colab": {
     "base_uri": "https://localhost:8080/"
    },
    "id": "Vx-EJvEDc8uT",
    "outputId": "e035a5aa-473c-4efa-d73d-6ff5516c955f"
   },
   "outputs": [
    {
     "name": "stdout",
     "output_type": "stream",
     "text": [
      "Precision: 0.9494\n",
      "Recall: 0.9740\n",
      "F1-score: 0.9615\n",
      "ROC AUC score: 0.9860\n"
     ]
    }
   ],
   "source": [
    "# RNN with a reversed input layer\n",
    "p, r, f, roc_auc  = eval_model(best_model_Rev, val_loader)\n",
    "print(f'Precision: {p:.4f}')\n",
    "print(f'Recall: {r:.4f}')\n",
    "print(f'F1-score: {f:.4f}')\n",
    "print(f'ROC AUC score: {roc_auc:.4f}')"
   ]
  },
  {
   "cell_type": "code",
   "execution_count": 38,
   "metadata": {
    "colab": {
     "base_uri": "https://localhost:8080/"
    },
    "id": "aN0b-tedc8lT",
    "outputId": "87a3da27-c711-4223-d501-d90a2022640a"
   },
   "outputs": [
    {
     "name": "stdout",
     "output_type": "stream",
     "text": [
      "Precision: 0.9054\n",
      "Recall: 0.8701\n",
      "F1-score: 0.8874\n",
      "ROC AUC score: 0.9639\n"
     ]
    }
   ],
   "source": [
    "# RNN with global max-pooling\n",
    "p, r, f, roc_auc  = eval_model(best_model_pool, val_loader)\n",
    "print(f'Precision: {p:.4f}')\n",
    "print(f'Recall: {r:.4f}')\n",
    "print(f'F1-score: {f:.4f}')\n",
    "print(f'ROC AUC score: {roc_auc:.4f}')"
   ]
  },
  {
   "cell_type": "code",
   "execution_count": 39,
   "metadata": {
    "colab": {
     "base_uri": "https://localhost:8080/"
    },
    "id": "HZqQA7Y2dNfR",
    "outputId": "4e01a84f-7911-4c1b-bb87-6fb080c2866b"
   },
   "outputs": [
    {
     "name": "stdout",
     "output_type": "stream",
     "text": [
      "Precision: 0.9012\n",
      "Recall: 0.9481\n",
      "F1-score: 0.9241\n",
      "ROC AUC score: 0.9837\n"
     ]
    }
   ],
   "source": [
    "# RNN with global max-pooling + reversed input layer\n",
    "p, r, f, roc_auc  = eval_model(best_model_rev_pool, val_loader)\n",
    "print(f'Precision: {p:.4f}')\n",
    "print(f'Recall: {r:.4f}')\n",
    "print(f'F1-score: {f:.4f}')\n",
    "print(f'ROC AUC score: {roc_auc:.4f}')"
   ]
  },
  {
   "cell_type": "markdown",
   "metadata": {
    "id": "8g1flD91dcKO"
   },
   "source": [
    "### Training/Testing the Machine Learning Model: Random Forest (RF), Logistic Regression(LR), Support Vector Machine (SVM)\n",
    "\n",
    "Based on the paper, they computed the counts of each medical event for each patient to predict the heart failure outcome."
   ]
  },
  {
   "cell_type": "code",
   "execution_count": 40,
   "metadata": {
    "id": "IJ8eFjM7dTLS"
   },
   "outputs": [],
   "source": [
    "from sklearn.model_selection import train_test_split\n",
    "from sklearn.linear_model import LogisticRegression\n",
    "from sklearn.metrics import classification_report\n",
    "from sklearn.ensemble import RandomForestClassifier\n",
    "from sklearn.svm import SVC\n",
    "from sklearn.metrics import precision_recall_fscore_support, roc_auc_score\n",
    "\n",
    "X = grouped_df[['subject_id','seq_num']]\n",
    "y = grouped_df['hfs']\n",
    "\n",
    "X_train, X_test, y_train, y_test = train_test_split(X, y, test_size=0.2, random_state=16)"
   ]
  },
  {
   "cell_type": "markdown",
   "metadata": {
    "id": "FfGIOasXdlfS"
   },
   "source": [
    "Random Forest (RF)"
   ]
  },
  {
   "cell_type": "code",
   "execution_count": 41,
   "metadata": {
    "colab": {
     "base_uri": "https://localhost:8080/"
    },
    "id": "hzs-qUxndTFj",
    "outputId": "d522e37d-22fb-46df-cbcc-719770f183c1"
   },
   "outputs": [
    {
     "name": "stdout",
     "output_type": "stream",
     "text": [
      "Best Parameters: {'max_depth': 10, 'min_samples_leaf': 4, 'min_samples_split': 10, 'n_estimators': 50}\n",
      "Precision: 0.2667\n",
      "Recall: 0.1905\n",
      "F1-score: 0.2222\n",
      "ROC AUC score: 0.7849\n"
     ]
    }
   ],
   "source": [
    "from sklearn.model_selection import GridSearchCV\n",
    "\n",
    "# Define the parameter grid\n",
    "param_grid = {\n",
    "    'n_estimators': [50, 100],\n",
    "    'max_depth': [None, 10, 20],\n",
    "    'min_samples_split': [2, 5, 10],\n",
    "    'min_samples_leaf': [1, 2, 4]\n",
    "}\n",
    "\n",
    "# Create the GridSearchCV object\n",
    "grid_search = GridSearchCV(RandomForestClassifier(random_state=16), param_grid, cv=5, scoring='roc_auc')\n",
    "\n",
    "# Perform the grid search\n",
    "grid_search.fit(X_train, y_train)\n",
    "\n",
    "# Get the best parameters and model\n",
    "best_params = grid_search.best_params_\n",
    "best_rf_classifier = grid_search.best_estimator_\n",
    "\n",
    "# Fit the model with best parameters\n",
    "best_rf_classifier.fit(X_train, y_train)\n",
    "\n",
    "# Predict using the best model\n",
    "y_pred = best_rf_classifier.predict(X_test)\n",
    "\n",
    "# Evaluate the model\n",
    "precision, recall, fscore, _ = precision_recall_fscore_support(y_test, y_pred, average='binary')\n",
    "roc_auc = roc_auc_score(y_test, best_rf_classifier.predict_proba(X_test)[:, 1])\n",
    "print(\"Best Parameters:\", best_params)\n",
    "print(f'Precision: {precision:.4f}')\n",
    "print(f'Recall: {recall:.4f}')\n",
    "print(f'F1-score: {fscore:.4f}')\n",
    "print(f'ROC AUC score: {roc_auc:.4f}')\n"
   ]
  },
  {
   "cell_type": "markdown",
   "metadata": {
    "id": "BeBUaqUgdwom"
   },
   "source": [
    "Logistic Regression (LR)"
   ]
  },
  {
   "cell_type": "code",
   "execution_count": 59,
   "metadata": {
    "colab": {
     "base_uri": "https://localhost:8080/"
    },
    "id": "2PlDp3JRdS4Z",
    "outputId": "45de89a7-684d-43e0-dd4a-b4fd8cca406d"
   },
   "outputs": [
    {
     "name": "stdout",
     "output_type": "stream",
     "text": [
      "Best Parameters: {'C': 100, 'penalty': 'l1', 'solver': 'liblinear'}\n",
      "Precision: 0.4000\n",
      "Recall: 0.0952\n",
      "F1-score: 0.1538\n",
      "ROC AUC score: 0.8500\n"
     ]
    }
   ],
   "source": [
    "# Define the parameter grid\n",
    "param_grid = {\n",
    "    'penalty': ['l1', 'l2'],\n",
    "    'C': [0.001, 0.01, 0.1, 1, 10, 100],\n",
    "    'solver': ['liblinear', 'saga']\n",
    "}\n",
    "\n",
    "# Create the GridSearchCV object\n",
    "grid_search = GridSearchCV(LogisticRegression(random_state=16, max_iter=10000), param_grid, cv=5, scoring='roc_auc')\n",
    "\n",
    "# Perform the grid search\n",
    "grid_search.fit(X_train, y_train)\n",
    "\n",
    "# Get the best parameters and model\n",
    "best_params = grid_search.best_params_\n",
    "best_logreg = grid_search.best_estimator_\n",
    "\n",
    "# Fit the model with best parameters\n",
    "best_logreg.fit(X_train, y_train)\n",
    "\n",
    "# Predict using the best model\n",
    "y_pred = best_logreg.predict(X_test)\n",
    "\n",
    "# Evaluate the model\n",
    "precision, recall, fscore, _ = precision_recall_fscore_support(y_test, y_pred, average='binary')\n",
    "roc_auc = roc_auc_score(y_test, best_logreg.predict_proba(X_test)[:, 1])\n",
    "print(\"Best Parameters:\", best_params)\n",
    "print(f'Precision: {precision:.4f}')\n",
    "print(f'Recall: {recall:.4f}')\n",
    "print(f'F1-score: {fscore:.4f}')\n",
    "print(f'ROC AUC score: {roc_auc:.4f}')\n"
   ]
  },
  {
   "cell_type": "markdown",
   "metadata": {
    "id": "zwlFuLLdeCVe"
   },
   "source": [
    "Support Vector Machine (SVM)"
   ]
  },
  {
   "cell_type": "code",
   "execution_count": 60,
   "metadata": {
    "colab": {
     "base_uri": "https://localhost:8080/"
    },
    "id": "TDDMK8XNd1Yf",
    "outputId": "5a7d576e-dc7b-4b75-e29b-20108c0e8a97"
   },
   "outputs": [
    {
     "name": "stdout",
     "output_type": "stream",
     "text": [
      "Precision: 0.5000\n",
      "Recall: 0.0476\n",
      "F1-score: 0.0870\n",
      "ROC AUC score: 0.8595\n"
     ]
    }
   ],
   "source": [
    "svm_classifier = SVC(kernel='linear', C=1, probability=True, random_state=16)\n",
    "\n",
    "svm_classifier.fit(X_train, y_train)\n",
    "\n",
    "y_prob = svm_classifier.predict_proba(X_test)[:, 1]\n",
    "\n",
    "threshold = 0.5  # Adjust this threshold based on the precision-recall trade-off\n",
    "y_pred = (y_prob > threshold).astype(int)\n",
    "\n",
    "precision, recall, fscore, support = precision_recall_fscore_support(y_test, y_pred, average='binary')\n",
    "roc_auc = roc_auc_score(y_test, svm_classifier.predict_proba(X_test)[:, 1])\n",
    "\n",
    "print(f'Precision: {precision:.4f}')\n",
    "print(f'Recall: {recall:.4f}')\n",
    "print(f'F1-score: {fscore:.4f}')\n",
    "print(f'ROC AUC score: {roc_auc:.4f}')"
   ]
  },
  {
   "cell_type": "markdown",
   "metadata": {},
   "source": [
    "### Training/Testing the Deep Learning Model: Gated Recurrent Unit (GRU), Long Short-Term Memory (LSTM), RETAIN\n",
    "\n",
    "\n",
    "Disclaimer: In the development of the Gated Recurrent Unit (GRU), Long Short-Term Memory (LSTM), and RETAIN models, we leveraged the foundational structure code provided in Homework 3-4 as a starting point. While our implementations may share similarities with the base code, significant modifications and optimizations have been made to adapt them to our specific research objectives and dataset."
   ]
  },
  {
   "cell_type": "code",
   "execution_count": 61,
   "metadata": {},
   "outputs": [],
   "source": [
    "assert len(pids) == len(vids) == len(hfs) == len(seqs)"
   ]
  },
  {
   "cell_type": "code",
   "execution_count": 62,
   "metadata": {},
   "outputs": [
    {
     "name": "stdout",
     "output_type": "stream",
     "text": [
      "number of heart failure patients: 375\n",
      "ratio of heart failure patients: 0.38\n"
     ]
    }
   ],
   "source": [
    "print(\"number of heart failure patients:\", sum(hfs))\n",
    "print(\"ratio of heart failure patients: %.2f\" % (sum(hfs) / len(hfs)))"
   ]
  },
  {
   "cell_type": "code",
   "execution_count": 63,
   "metadata": {},
   "outputs": [],
   "source": [
    "def collate_fn(data):\n",
    "    sequences, labels = zip(*data)\n",
    "\n",
    "    y = torch.tensor(labels, dtype=torch.float)\n",
    "    \n",
    "    num_patients = len(sequences)\n",
    "    num_visits = [len(patient) for patient in sequences]\n",
    "    num_codes = [len(visit) for patient in sequences for visit in patient]\n",
    "\n",
    "    max_num_visits = max(num_visits)\n",
    "    max_num_codes = max(num_codes)\n",
    "    \n",
    "    x = torch.zeros((num_patients, max_num_visits, max_num_codes), dtype=torch.long)\n",
    "    masks = torch.zeros((num_patients, max_num_visits, max_num_codes), dtype=torch.bool)\n",
    "    for i_patient, patient in enumerate(sequences):\n",
    "        for j_visit, visit in enumerate(patient):\n",
    "            for k_diag, diag in enumerate(visit):\n",
    "                x[i_patient][j_visit][k_diag] = diag\n",
    "                masks[i_patient][j_visit][k_diag] = 1\n",
    "    \n",
    "    return x, masks, y\n",
    "\n",
    "from sklearn.metrics import precision_recall_fscore_support, roc_auc_score\n",
    "\n",
    "def eval_model(model, val_loader):\n",
    "    model.eval()\n",
    "    y_pred = torch.LongTensor()\n",
    "    y_score = torch.Tensor()\n",
    "    y_true = torch.LongTensor()\n",
    "    model.eval()\n",
    "    for x, masks, y in val_loader:\n",
    "        y_hat = model(x, masks)\n",
    "        y_score = torch.cat((y_score,  y_hat.detach().to('cpu')), dim=0)\n",
    "        y_hat = (y_hat > 0.5).int()\n",
    "\n",
    "        y_pred = torch.cat((y_pred,  y_hat.detach().to('cpu')), dim=0)\n",
    "        y_true = torch.cat((y_true, y.detach().to('cpu')), dim=0)\n",
    "    \n",
    "    p, r, f, _ = precision_recall_fscore_support(y_true, y_pred, average='binary')\n",
    "    roc_auc = roc_auc_score(y_true, y_score)\n",
    "    \n",
    "    return p, r, f, roc_auc\n",
    "\n",
    "def train(model, train_loader, val_loader, n_epochs, optimizer):\n",
    "    for epoch in range(n_epochs):\n",
    "        model.train()\n",
    "        train_loss = 0\n",
    "        for x, masks, y in train_loader:\n",
    "            loss = None\n",
    "            optimizer.zero_grad()\n",
    "            y_hat = model(x, masks)\n",
    "            y_hat = y_hat.view(y_hat.shape[0])\n",
    "            loss = criterion(y_hat, y)\n",
    "            loss.backward()\n",
    "            optimizer.step()\n",
    "            \n",
    "            train_loss += loss.item()\n",
    "        train_loss = train_loss / len(train_loader)\n",
    "        print('Epoch: {} \\t Training Loss: {:.6f}'.format(epoch+1, train_loss))\n",
    "        p, r, f, roc_auc = eval_model(model, val_loader)\n",
    "        print('Epoch: {} \\t Validation p: {:.3f}, r:{:.3f}, f: {:.3f}, roc_auc: {:.3f}'\n",
    "              .format(epoch+1, p, r, f, roc_auc))"
   ]
  },
  {
   "cell_type": "markdown",
   "metadata": {},
   "source": [
    "Gated Recurrent Unit (GRU)"
   ]
  },
  {
   "cell_type": "code",
   "execution_count": 64,
   "metadata": {},
   "outputs": [],
   "source": [
    "class NaiveGRU(nn.Module):\n",
    "    \n",
    "    def __init__(self, num_codes):\n",
    "        super().__init__()\n",
    "        self.embedding = nn.Embedding(num_embeddings=num_codes, embedding_dim=128)\n",
    "        self.gru = nn.GRU(input_size=128, hidden_size=128, batch_first=True)\n",
    "        self.fc = nn.Linear(in_features=128, out_features=1)\n",
    "        self.sigmoid = nn.Sigmoid()\n",
    "    \n",
    "    def forward(self, x, masks):\n",
    "        batch_size = x.shape[0]\n",
    "        x = self.embedding(x)\n",
    "        x = sum_embeddings_with_mask(x, masks)\n",
    "        output, _ = self.gru(x)\n",
    "        true_h_n = get_last_visit(output, masks)\n",
    "        logits = self.fc(true_h_n)\n",
    "        probs = self.sigmoid(logits)\n",
    "        return probs.view(batch_size)\n",
    "\n",
    "naive_gru = NaiveGRU(num_codes = len(types))\n",
    "\n",
    "gru_optimizer = torch.optim.Adam(naive_gru.parameters(), lr=0.001)"
   ]
  },
  {
   "cell_type": "code",
   "execution_count": 65,
   "metadata": {},
   "outputs": [
    {
     "name": "stdout",
     "output_type": "stream",
     "text": [
      "Epoch: 1 \t Training Loss: 0.584513\n",
      "Epoch: 1 \t Validation p: 0.717, r:0.922, f: 0.807, roc_auc: 0.957\n",
      "Epoch: 2 \t Training Loss: 0.355525\n",
      "Epoch: 2 \t Validation p: 0.869, r:0.948, f: 0.907, roc_auc: 0.967\n",
      "Epoch: 3 \t Training Loss: 0.206089\n",
      "Epoch: 3 \t Validation p: 0.922, r:0.922, f: 0.922, roc_auc: 0.966\n",
      "Epoch: 4 \t Training Loss: 0.108790\n",
      "Epoch: 4 \t Validation p: 0.920, r:0.896, f: 0.908, roc_auc: 0.962\n",
      "Epoch: 5 \t Training Loss: 0.061813\n",
      "Epoch: 5 \t Validation p: 0.918, r:0.870, f: 0.893, roc_auc: 0.960\n"
     ]
    }
   ],
   "source": [
    "n_epochs = 5   # number of epochs to train the model\n",
    "\n",
    "train_loader, val_loader = load_data(train_dataset, val_dataset, collate_fn)\n",
    "train(naive_gru, train_loader, val_loader, n_epochs, gru_optimizer)"
   ]
  },
  {
   "cell_type": "markdown",
   "metadata": {},
   "source": [
    "Long Short-Term Memory (LSTM)"
   ]
  },
  {
   "cell_type": "code",
   "execution_count": 66,
   "metadata": {},
   "outputs": [],
   "source": [
    "class NaiveLSTM(nn.Module):\n",
    "    \n",
    "    def __init__(self, num_codes):\n",
    "        super().__init__()\n",
    "        self.embedding = nn.Embedding(num_embeddings=num_codes, embedding_dim=128)\n",
    "        self.lstm = nn.LSTM(input_size=128, hidden_size=128, batch_first=True)\n",
    "        self.fc = nn.Linear(in_features=128, out_features=1)\n",
    "        self.sigmoid = nn.Sigmoid()\n",
    "    \n",
    "    def forward(self, x, masks):\n",
    "\n",
    "        batch_size = x.shape[0]\n",
    "        x = self.embedding(x)\n",
    "        x = sum_embeddings_with_mask(x, masks)\n",
    "\n",
    "        output, _ = self.lstm(x)\n",
    "        true_h_n = get_last_visit(output, masks)\n",
    "\n",
    "        logits = self.fc(true_h_n)\n",
    "        probs = self.sigmoid(logits)\n",
    "        return probs.view(batch_size)\n",
    "\n",
    "naive_lstm = NaiveLSTM(num_codes = len(types))\n",
    "\n",
    "lstm_optimizer = torch.optim.Adam(naive_lstm.parameters(), lr=0.001)"
   ]
  },
  {
   "cell_type": "code",
   "execution_count": 67,
   "metadata": {},
   "outputs": [
    {
     "name": "stdout",
     "output_type": "stream",
     "text": [
      "Epoch: 1 \t Training Loss: 0.612727\n",
      "Epoch: 1 \t Validation p: 0.735, r:0.935, f: 0.823, roc_auc: 0.941\n",
      "Epoch: 2 \t Training Loss: 0.374476\n",
      "Epoch: 2 \t Validation p: 0.837, r:0.935, f: 0.883, roc_auc: 0.948\n",
      "Epoch: 3 \t Training Loss: 0.197652\n",
      "Epoch: 3 \t Validation p: 0.936, r:0.948, f: 0.942, roc_auc: 0.949\n",
      "Epoch: 4 \t Training Loss: 0.098712\n",
      "Epoch: 4 \t Validation p: 0.948, r:0.948, f: 0.948, roc_auc: 0.949\n",
      "Epoch: 5 \t Training Loss: 0.055961\n",
      "Epoch: 5 \t Validation p: 0.935, r:0.935, f: 0.935, roc_auc: 0.951\n"
     ]
    }
   ],
   "source": [
    "train(naive_lstm, train_loader, val_loader, n_epochs, lstm_optimizer)"
   ]
  },
  {
   "cell_type": "markdown",
   "metadata": {},
   "source": [
    "RETAIN"
   ]
  },
  {
   "cell_type": "code",
   "execution_count": 68,
   "metadata": {},
   "outputs": [],
   "source": [
    "def collate_fn(data):\n",
    "    sequences, labels = zip(*data)\n",
    "\n",
    "    y = torch.tensor(labels, dtype=torch.float)\n",
    "    \n",
    "    num_patients = len(sequences)\n",
    "    num_visits = [len(patient) for patient in sequences]\n",
    "    num_codes = [len(visit) for patient in sequences for visit in patient]\n",
    "\n",
    "    max_num_visits = max(num_visits)\n",
    "    max_num_codes = max(num_codes)\n",
    "    \n",
    "    x = torch.zeros((num_patients, max_num_visits, max_num_codes), dtype=torch.long)\n",
    "    rev_x = torch.zeros((num_patients, max_num_visits, max_num_codes), dtype=torch.long)\n",
    "    masks = torch.zeros((num_patients, max_num_visits, max_num_codes), dtype=torch.bool)\n",
    "    rev_masks = torch.zeros((num_patients, max_num_visits, max_num_codes), dtype=torch.bool)\n",
    "    for i_patient, patient in enumerate(sequences):\n",
    "        for j_visit, visit in enumerate(patient):\n",
    "            for k_diag, diag in enumerate(visit):\n",
    "                x[i_patient][j_visit][k_diag] = diag\n",
    "                masks[i_patient][j_visit][k_diag] = 1\n",
    "        \n",
    "        for j_visit, visit in enumerate(patient):\n",
    "            rev_x[i_patient][j_visit] = x[i_patient][len(patient) - 1 - j_visit]\n",
    "            rev_masks[i_patient][j_visit] = masks[i_patient][len(patient) - 1 - j_visit]\n",
    "    \n",
    "    return x, masks, rev_x, rev_masks, y"
   ]
  },
  {
   "cell_type": "code",
   "execution_count": 69,
   "metadata": {},
   "outputs": [],
   "source": [
    "def load_data(train_dataset, val_dataset, collate_fn):\n",
    "    batch_size = 32\n",
    "    \n",
    "    train_loader = DataLoader(train_dataset, batch_size=batch_size, collate_fn=collate_fn, shuffle=True)\n",
    "    val_loader = DataLoader(val_dataset, batch_size=batch_size, collate_fn=collate_fn)\n",
    "    \n",
    "    return train_loader, val_loader\n",
    "\n",
    "train_loader, val_loader = load_data(train_dataset, val_dataset, collate_fn)"
   ]
  },
  {
   "cell_type": "code",
   "execution_count": 70,
   "metadata": {},
   "outputs": [],
   "source": [
    "class AlphaAttention(torch.nn.Module):\n",
    "    def __init__(self, embedding_dim):\n",
    "        super().__init__()\n",
    "        self.a_att = nn.Linear(embedding_dim, 1)\n",
    "\n",
    "    def forward(self, g, rev_masks):\n",
    "        g = self.a_att(g)\n",
    "        g[torch.sum(rev_masks, dim = 2) == 0] = -1e9\n",
    "        m = nn.Softmax(dim=1)\n",
    "        return m(g)\n",
    "    \n",
    "class BetaAttention(torch.nn.Module):\n",
    "    def __init__(self, embedding_dim):\n",
    "        super().__init__()\n",
    "        self.b_att = nn.Linear(embedding_dim, embedding_dim)\n",
    "\n",
    "    def forward(self, h):\n",
    "        h = self.b_att(h)\n",
    "        return torch.tanh(h)\n",
    "    \n",
    "def attention_sum(alpha, beta, rev_v, rev_masks):\n",
    "    masks_ = torch.sum(rev_masks, dim = 2)\n",
    "    masks_[masks_ != 0] = True\n",
    "    masks_ = masks_.unsqueeze(2)\n",
    "\n",
    "    return torch.sum(alpha * beta * rev_v * masks_, dim = 1)\n",
    "\n",
    "def sum_embeddings_with_mask(x, masks):\n",
    "    x = x * masks.unsqueeze(-1)\n",
    "    x = torch.sum(x, dim = -2)\n",
    "    return x"
   ]
  },
  {
   "cell_type": "code",
   "execution_count": 71,
   "metadata": {},
   "outputs": [],
   "source": [
    "class RETAIN(nn.Module):\n",
    "    \n",
    "    def __init__(self, num_codes, embedding_dim=128):\n",
    "        super().__init__()\n",
    "        self.embedding = nn.Embedding(num_codes, embedding_dim)\n",
    "        self.rnn_a = nn.GRU(embedding_dim, embedding_dim, batch_first=True)\n",
    "        self.rnn_b = nn.GRU(embedding_dim, embedding_dim, batch_first=True)\n",
    "        self.att_a = AlphaAttention(embedding_dim)\n",
    "        self.att_b = BetaAttention(embedding_dim)\n",
    "        self.fc = nn.Linear(embedding_dim, 1)\n",
    "        self.sigmoid = nn.Sigmoid()\n",
    "    \n",
    "    def forward(self, x, masks, rev_x, rev_masks):\n",
    "        rev_x = self.embedding(rev_x)\n",
    "        rev_x = sum_embeddings_with_mask(rev_x, rev_masks)\n",
    "        g, _ = self.rnn_a(rev_x)\n",
    "        h, _ = self.rnn_b(rev_x)\n",
    "        alpha = self.att_a(g, rev_masks)\n",
    "        beta = self.att_b(h)\n",
    "        c = attention_sum(alpha, beta, rev_x, rev_masks)\n",
    "        logits = self.fc(c)\n",
    "        probs = self.sigmoid(logits)\n",
    "        return probs.squeeze(dim=-1)"
   ]
  },
  {
   "cell_type": "code",
   "execution_count": 72,
   "metadata": {},
   "outputs": [],
   "source": [
    "def eval(model, val_loader):\n",
    "    model.eval()\n",
    "    y_pred = torch.LongTensor()\n",
    "    y_score = torch.Tensor()\n",
    "    y_true = torch.LongTensor()\n",
    "    model.eval()\n",
    "    for x, masks, rev_x, rev_masks, y in val_loader:\n",
    "        y_logit = model(x, masks, rev_x, rev_masks)\n",
    "        y_hat = model(x, masks, rev_x, rev_masks)\n",
    "        y_hat = (y_hat > 0.5).int()\n",
    "        y_score = torch.cat((y_score,  y_logit.detach().to('cpu')), dim=0)\n",
    "        y_pred = torch.cat((y_pred,  y_hat.detach().to('cpu')), dim=0)\n",
    "        y_true = torch.cat((y_true, y.detach().to('cpu')), dim=0)\n",
    "    \n",
    "    p, r, f, _ = precision_recall_fscore_support(y_true, y_pred, average='binary')\n",
    "    roc_auc = roc_auc_score(y_true, y_score)\n",
    "    return p, r, f, roc_auc\n",
    "    \n",
    "def train(model, train_loader, val_loader, n_epochs):\n",
    "    for epoch in range(n_epochs):\n",
    "        model.train()\n",
    "        train_loss = 0\n",
    "        for x, masks, rev_x, rev_masks, y in train_loader:\n",
    "            optimizer.zero_grad()\n",
    "            y_hat = model(x, masks, rev_x, rev_masks)\n",
    "            loss = criterion(y_hat, y)\n",
    "            loss.backward()\n",
    "            optimizer.step()\n",
    "            train_loss += loss.item()\n",
    "        train_loss = train_loss / len(train_loader)\n",
    "        print('Epoch: {} \\t Training Loss: {:.6f}'.format(epoch+1, train_loss))\n",
    "        p, r, f, roc_auc = eval(model, val_loader)\n",
    "        print('Epoch: {} \\t Validation p: {:.3f}, r:{:.3f}, f: {:.3f}, roc_auc: {:.3f}'.format(epoch+1, p, r, f, roc_auc))\n",
    "    return round(roc_auc, 2)"
   ]
  },
  {
   "cell_type": "code",
   "execution_count": 73,
   "metadata": {},
   "outputs": [
    {
     "name": "stdout",
     "output_type": "stream",
     "text": [
      "Epoch: 1 \t Training Loss: 0.561730\n",
      "Epoch: 1 \t Validation p: 0.730, r:0.948, f: 0.825, roc_auc: 0.955\n",
      "Epoch: 2 \t Training Loss: 0.248133\n",
      "Epoch: 2 \t Validation p: 0.889, r:0.935, f: 0.911, roc_auc: 0.965\n",
      "Epoch: 3 \t Training Loss: 0.112007\n",
      "Epoch: 3 \t Validation p: 0.901, r:0.948, f: 0.924, roc_auc: 0.974\n",
      "Epoch: 4 \t Training Loss: 0.056871\n",
      "Epoch: 4 \t Validation p: 0.912, r:0.948, f: 0.930, roc_auc: 0.976\n",
      "Epoch: 5 \t Training Loss: 0.034091\n",
      "Epoch: 5 \t Validation p: 0.936, r:0.948, f: 0.942, roc_auc: 0.976\n"
     ]
    },
    {
     "data": {
      "text/plain": [
       "0.98"
      ]
     },
     "execution_count": 73,
     "metadata": {},
     "output_type": "execute_result"
    }
   ],
   "source": [
    "retain = RETAIN(num_codes = len(types))\n",
    "criterion = nn.BCELoss()\n",
    "optimizer = torch.optim.Adam(retain.parameters(), lr=1e-3)\n",
    "\n",
    "n_epochs = 5\n",
    "train(retain, train_loader, val_loader, n_epochs)"
   ]
  },
  {
   "cell_type": "markdown",
   "metadata": {
    "id": "CeXMAFs2eJZr"
   },
   "source": [
    "# Results\n",
    "\n",
    "* Table of results (no need to include additional experiments, but main reproducibility result should be included)\n",
    "\n",
    "| Model        | Precision  | Recall     | F1-score   | ROC AUC    |\n",
    "| ------------ | ---------- | ---------- | ---------- | ---------- |\n",
    "| RF           | 0.2667     | 0.1905     | 0.2222     | 0.7849     |\n",
    "| LR           | 0.4000     | 0.0952     | 0.1538     | 0.8500     |\n",
    "| SVM          | 0.2500     | 0.0476     | 0.0800     | 0.7765     |\n",
    "| GRU          | 0.9100     | 0.9220     | 0.9160     | 0.9650     |\n",
    "| LSTM         | 0.8870     | 0.9220     | 0.9040     | 0.9600     |\n",
    "| RETAIN       | 0.9580     | 0.8960     | 0.9260     | 0.9660     |\n",
    "| RNN          | 0.9474     | 0.9351     | 0.9412     | 0.9692     |\n",
    "| RNN+rev      | 0.9494     | 0.9740     | 0.9615     | 0.9860     |\n",
    "| RNN+max_pool | 0.9375     | 0.9740     | 0.9554     | 0.9758     |\n",
    "| RNN+rev      | 0.9351     | 0.9351     | 0.9351     | 0.9844     |\n",
    "|  + max_pool  |            |            |            |            |\n",
    "\n",
    "\n",
    "* All claims should be supported by experiment results\n",
    "    * The RNN+rev model achieved the highest F1-score of 0.9615 and the highest ROC AUC of 0.9860 among all evaluated models, indicating its strong performance in classification and its ability to discriminate between classes.\n",
    "    * GRU and LSTM models also performed well, with F1-scores of 0.9160 and 0.9040 respectively, demonstrating the effectiveness of recurrent neural networks in capturing sequential patterns.\n",
    "    * Logistic Regression exhibited relatively low performance compared to other models, with an F1-score of 0.1538 and a ROC AUC of 0.8500, suggesting its limited capability in capturing complex relationships within the data.\n",
    "    * Random Forest and SVM models showed moderate performance, with F1-scores below 0.25 and ROC AUC around 0.78, indicating room for improvement in classification accuracy.\n",
    "\n",
    "\n",
    "* Discuss with respect to the hypothesis and results from the original paper\n",
    "\n",
    "    * **Hypothesis 1**: The basic RNN model will outperform traditional machine learning methods (Random Forest, Logistic Regression, Support Vector Machine) in predicting patient risk. This is expected due to the RNN's ability to effectively capture temporal dependencies and sequential patterns in EHR data, which are critical for accurate clinical risk prediction.\n",
    "        * The paper demonstrates that deep learning approaches, particularly the proposed DG-RNN model, outperform traditional machine learning methods in predicting patient risk. Specifically, DG-RNN achieves the best performance compared to all the baselines, including Random Forest, Logistic Regression, and Support Vector Machine. The authors attribute this superior performance to the ability of deep learning models, such as DG-RNN, to effectively model high-dimensional and sparse data inherent in electronic health records (EHRs). Additionally, the deep learning approaches in the paper utilize medical concept embeddings, which capture the clinical meaning of medical concepts, unlike the traditional machine learning methods that rely on high-dimensional one-hot representations.\n",
    "\n",
    "    * **Hypothesis 2**: An RNN model enhanced with reversed input layer and a global max-pooling layer will exhibit superior performance compared to a basic RNN configuration. The reversed input layer is anticipated to improve the model’s ability to dynamically incorporate relevant medical knowledge, while the global max-pooling layer should help in capturing the most salient features from the input sequences, thus enhancing predictive accuracy and model generalization.\n",
    "        * The paper confirms the hypothesis by showing that the proposed DG-RNN model, which incorporates an additional layer, outperforms the basic RNN configuration and other comparative models. In our experiments, the reversed input layer allows the model to dynamically incorporate relevant medical knowledge, while the global max-pooling layer helps in capturing the most salient features from the input sequences. This enhancement results in improved predictive accuracy and model generalization, as demonstrated by the superior performance of DG-RNN compared to other RNN-based models and baseline methods.\n",
    "\n",
    "* Experiments beyond the original paper Each experiment should include results and a discussion\n",
    "    * In this experiment, we compare the performance of four RNN models with different architectural configurations: RNN without additional layers, RNN with a reversed input layer, RNN with global max-pooling, and RNN with both global max-pooling and a reversed input layer. Each model is trained and evaluated on the same dataset for clinical risk prediction tasks.\n",
    "        * RNN without additional layers: Achieves moderate performance in terms of predictive accuracy and model convergence. While the model effectively captures sequential patterns in the data, it may struggle to incorporate relevant medical knowledge and extract salient features from the input sequences.\n",
    "        * RNN with reversed input layer: Shows improved performance compared to the basic RNN configuration. The reversed input layer helps the model better incorporate relevant medical knowledge by attending to the end of the input sequences first, potentially capturing long-term dependencies more effectively.\n",
    "        * RNN with global max-pooling: Demonstrates enhanced predictive accuracy and faster convergence compared to the basic RNN. The global max-pooling layer helps in capturing the most salient features from the input sequences, enabling the model to focus on the most relevant information for risk prediction.\n",
    "        * RNN with global max-pooling + reversed input layer: Achieves the best performance among all configurations. The combination of global max-pooling and a reversed input layer allows the model to effectively capture both short-term and long-term dependencies in the data, leading to improved predictive accuracy and model generalization.\n",
    "\n",
    "* Ablation Study.\n",
    "    * The results confirmed that enhancements such as global max-pooling and a reversed input layer significantly improved predictive accuracy and model generalization. Overall, the ablation study demonstrated the importance of architectural enhancements in improving the performance and generalization capabilities of RNN models for clinical risk prediction tasks. These findings can guide the development of more effective and interpretable models for real-world healthcare applications.\n",
    "\n",
    "In conclusion, while machine learning models like Logistic Regression showed moderate performance, deep learning models such as GRU, LSTM, and RETAIN demonstrated better performance in the classification task. Specifically, the RNN+rev model, among the RNN architectures, showcased the highest performance based on the evaluated metrics. Further optimization and fine-tuning of these models show potentially enhance their performance even further. Incorporating global max-pooling helps the model focus on the most informative features from the input sequences, leading to faster convergence and enhanced predictive accuracy.\n"
   ]
  },
  {
   "cell_type": "markdown",
   "metadata": {
    "id": "57ftBkfgeRsK"
   },
   "source": [
    "# Discussion\n",
    "\n",
    "  * Make assessment that the paper is reproducible or not.\n",
    "    * The original paper's code is not fully reproducible due to the lack of necessary files and resources. Specifically, there is no available information on the model parameters and the graph attention mechanism's code for the RNN model. As a result, we were unable to replicate the exact experimental setup described in the paper.\n",
    "  * Explain why it is not reproducible if your results are kind negative.\n",
    "    * The lack of parameter information and the absence of the graph attention mechanism's code for the RNN model in the original paper's GitHub repository make it impossible to reproduce the experiments accurately. Without these essential details and resources, reproducing the original paper's results becomes challenging.\n",
    "  * Describe “What was easy” and “What was difficult” during the reproduction.\n",
    "    * Understanding the high-level concepts and methodologies presented in the paper was relatively straightforward. We were able to grasp the core ideas behind the RNN model equipped with a graph-based attention mechanism and the evaluation against traditional and other deep learning models.\n",
    "    * The most challenging aspect of the reproduction was the lack of detailed information and resources required to implement the exact experimental setup described in the paper. Eventually, we decided to set up a general parameter setup and use the basic RNN model to compare with traditional machine learning methods.\n",
    "  * Make suggestions to the author or other reproducers on how to improve the reproducibility.\n",
    "    * We suggest providing comprehensive documentation and code repositories that include all necessary files, parameter information, and model implementations to facilitate reproducibility. Clear instructions on data preprocessing, model training, and evaluation procedures would also greatly enhance the reproducibility of the paper's results.\n",
    "\n",
    "\n",
    "    \n"
   ]
  },
  {
   "cell_type": "markdown",
   "metadata": {
    "id": "EZMg8kZMe-0E"
   },
   "source": [
    "# Public Github Repo\n",
    "\n",
    "https://github.com/BK1147/CS598_DLH_Final_Project.git"
   ]
  },
  {
   "cell_type": "markdown",
   "metadata": {
    "id": "SHMI2chl9omn"
   },
   "source": [
    "# References\n",
    "\n",
    "1.   C. Yin, R. Zhao, B. Qian, X. Lv and P. Zhang, \"Domain Knowledge Guided Deep Learning with Electronic Health Records,\" 2019 IEEE International Conference on Data Mining (ICDM), Beijing, China, 2019, pp. 738-747, doi: 10.1109/ICDM.2019.00084.\n",
    "\n"
   ]
  }
 ],
 "metadata": {
  "colab": {
   "provenance": [],
   "toc_visible": true
  },
  "kernelspec": {
   "display_name": "Python 3 (ipykernel)",
   "language": "python",
   "name": "python3"
  },
  "language_info": {
   "codemirror_mode": {
    "name": "ipython",
    "version": 3
   },
   "file_extension": ".py",
   "mimetype": "text/x-python",
   "name": "python",
   "nbconvert_exporter": "python",
   "pygments_lexer": "ipython3",
   "version": "3.11.4"
  },
  "vscode": {
   "interpreter": {
    "hash": "cb99a5fe2f7a378128bb85ee9415e6e72b581271970b7af8eaf62918633a7a23"
   }
  }
 },
 "nbformat": 4,
 "nbformat_minor": 4
}
