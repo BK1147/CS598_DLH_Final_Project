{
 "cells": [
  {
   "cell_type": "code",
   "execution_count": 1,
   "id": "b6dedb4b-8dab-412d-aeac-c66328eefbc4",
   "metadata": {},
   "outputs": [],
   "source": [
    "import csv\n",
    "import numpy as np\n",
    "import pandas as pd\n",
    "import random\n",
    "\n",
    "# Define data path\n",
    "DATA_PATH = './mimic-iv-2.2/hosp/unzipped'"
   ]
  },
  {
   "cell_type": "markdown",
   "id": "d0c7bf27-6d33-4bd9-87f6-3dee5185e564",
   "metadata": {},
   "source": [
    "### Work with MIMIC data as Pandas Dataframes"
   ]
  },
  {
   "cell_type": "code",
   "execution_count": 2,
   "id": "850b230c-faea-4e7f-9c50-6c1732197fca",
   "metadata": {},
   "outputs": [
    {
     "name": "stdout",
     "output_type": "stream",
     "text": [
      "  icd_code  icd_version                             long_title\n",
      "0     0010            9         Cholera due to vibrio cholerae\n",
      "1     0011            9  Cholera due to vibrio cholerae el tor\n",
      "2     0019            9                   Cholera, unspecified\n",
      "3     0020            9                          Typhoid fever\n",
      "4     0021            9                    Paratyphoid fever A\n"
     ]
    }
   ],
   "source": [
    "d_icd_diagnoses_df = pd.read_csv(DATA_PATH + '/d_icd_diagnoses.csv', sep=',', header='infer')\n",
    "print(d_icd_diagnoses_df.head())"
   ]
  },
  {
   "cell_type": "code",
   "execution_count": 3,
   "id": "8c6049a0-3ca1-4300-b197-bd87904b5486",
   "metadata": {},
   "outputs": [
    {
     "name": "stdout",
     "output_type": "stream",
     "text": [
      "(24, 3)      icd_code  icd_version                                         long_title\n",
      "4647    39891            9               Rheumatic heart failure (congestive)\n",
      "4653    40201            9  Malignant hypertensive heart disease with hear...\n",
      "4655    40211            9  Benign hypertensive heart disease with heart f...\n",
      "4657    40291            9  Unspecified hypertensive heart disease with he...\n",
      "4665    40401            9  Hypertensive heart and chronic kidney disease,...\n",
      "['39891', '40201', '40211', '40291', '40401', '40403', '40411', '40413', '40491', '40493', '4280', '4281', '42820', '42821', '42822', '42823', '42830', '42831', '42832', '42833', '42840', '42841', '42842', '42843']\n"
     ]
    }
   ],
   "source": [
    "# Find values with 'heart failure' in title\n",
    "hf_df = d_icd_diagnoses_df[d_icd_diagnoses_df['long_title'].str.contains(\"heart failure\")]\n",
    "\n",
    "# Filter only values with icd_version 9\n",
    "hf_df = hf_df.loc[hf_df['icd_version'] == 9]\n",
    "\n",
    "# Find values in remaining list that contain 'without heart failure'\n",
    "wohf_df = hf_df[hf_df['long_title'].str.contains(\"without heart failure\")]\n",
    "\n",
    "# Remove values w/ 'without heart failure'\n",
    "res_df = pd.concat([hf_df,wohf_df]).drop_duplicates(keep=False)\n",
    "\n",
    "print(res_df.shape, res_df.head())\n",
    "\n",
    "hf_icd_codes = res_df['icd_code'].to_list()\n",
    "\n",
    "print(hf_icd_codes)"
   ]
  },
  {
   "cell_type": "markdown",
   "id": "10bf57fe-89bf-473d-8e79-414659b90b5f",
   "metadata": {},
   "source": [
    "### Filter patient_df and diagnoses_df into list data used for RNN"
   ]
  },
  {
   "cell_type": "markdown",
   "id": "299aa68f-9409-4c3b-a718-b49662174566",
   "metadata": {},
   "source": [
    "where\n",
    "- `pids`: contains the patient ids\n",
    "- `vids`: contains a list of visit ids for each patient\n",
    "- `hfs`: contains the heart failure label (0: normal, 1: heart failure) for each patient\n",
    "- `seqs`: contains a list of visit (in ICD9 codes) for each patient\n",
    "- `types`: contains the map from ICD9 codes to ICD-9 labels\n",
    "- `rtypes`: contains the map from ICD9 labels to ICD9 codes"
   ]
  },
  {
   "cell_type": "code",
   "execution_count": 4,
   "id": "469b2c47-6230-4ebf-b9e8-5cf4b453f666",
   "metadata": {},
   "outputs": [
    {
     "name": "stdout",
     "output_type": "stream",
     "text": [
      "   subject_id   hadm_id  seq_num icd_code  icd_version\n",
      "0    10000032  22595853        1     5723            9\n",
      "1    10000032  22595853        2    78959            9\n",
      "2    10000032  22595853        3     5715            9\n",
      "3    10000032  22595853        4    07070            9\n",
      "4    10000032  22595853        5      496            9\n",
      "(4756326, 5)\n"
     ]
    }
   ],
   "source": [
    "diagnoses_df = pd.read_csv(DATA_PATH + '/diagnoses_icd.csv', sep=',', header='infer')\n",
    "print(diagnoses_df.head())\n",
    "print(diagnoses_df.shape)"
   ]
  },
  {
   "cell_type": "code",
   "execution_count": 5,
   "id": "f0f97a4b-6d9b-45b5-8b34-78addfe31598",
   "metadata": {},
   "outputs": [
    {
     "name": "stdout",
     "output_type": "stream",
     "text": [
      "   subject_id   hadm_id  seq_num icd_code  icd_version\n",
      "0    10000032  22595853        1     5723            9\n",
      "1    10000032  22595853        2    78959            9\n",
      "2    10000032  22595853        3     5715            9\n",
      "3    10000032  22595853        4    07070            9\n",
      "4    10000032  22595853        5      496            9\n",
      "(2766877, 5)\n"
     ]
    }
   ],
   "source": [
    "# Filter only diagnoses coded in ICD-9\n",
    "diagnoses_df = diagnoses_df.loc[diagnoses_df['icd_version'] == 9]\n",
    "print(diagnoses_df.head(5))\n",
    "print(diagnoses_df.shape)"
   ]
  },
  {
   "cell_type": "markdown",
   "id": "a38f9ecf-21f5-423f-ae36-de8fd4360128",
   "metadata": {},
   "source": [
    "#### hfs"
   ]
  },
  {
   "cell_type": "code",
   "execution_count": 6,
   "id": "dfb5ae56-762e-4f9c-9514-1112ff102c0b",
   "metadata": {},
   "outputs": [
    {
     "name": "stdout",
     "output_type": "stream",
     "text": [
      "     subject_id   hadm_id  seq_num icd_code  icd_version\n",
      "252    10000980  24947999        1    42823            9\n",
      "259    10000980  24947999        8     4280            9\n",
      "279    10000980  25242409        7    42832            9\n",
      "280    10000980  25242409        8     4280            9\n",
      "330    10000980  26913865        2    42823            9\n",
      "334    10000980  26913865        6     4280            9\n",
      "344    10000980  29654838        1    42833            9\n",
      "353    10000980  29654838       10     4280            9\n",
      "631    10001877  21320596        1    42833            9\n",
      "632    10001877  21320596        2     4280            9\n"
     ]
    }
   ],
   "source": [
    "hfs_pos = diagnoses_df[diagnoses_df['icd_code'].isin(hf_icd_codes)]\n",
    "print(hfs_pos.head(10))"
   ]
  },
  {
   "cell_type": "code",
   "execution_count": 7,
   "id": "11a3e5c4-ba2a-44b9-9a6a-70d42c07463c",
   "metadata": {},
   "outputs": [
    {
     "name": "stdout",
     "output_type": "stream",
     "text": [
      "Number of heart failure patients: 14790\n"
     ]
    }
   ],
   "source": [
    "hfs_pos_ids = hfs_pos['subject_id'].drop_duplicates().to_list()\n",
    "\n",
    "print(f'Number of heart failure patients: {len(hfs_pos_ids)}')"
   ]
  },
  {
   "cell_type": "code",
   "execution_count": 8,
   "id": "b612fc67-4e48-410e-a295-d17e15aa9cf2",
   "metadata": {},
   "outputs": [
    {
     "name": "stdout",
     "output_type": "stream",
     "text": [
      "Number of non heart failure patients (ICD-9) in database: 109760\n",
      "Subsampled patient size: 22185\n"
     ]
    }
   ],
   "source": [
    "ratio_hfs_patients = 0.4\n",
    "\n",
    "num_hfs_neg_patients = int(len(hfs_pos_ids) / ratio_hfs_patients * (1 - ratio_hfs_patients))\n",
    "\n",
    "hfs_neg_ids = diagnoses_df[~diagnoses_df['subject_id'].isin(hfs_pos_ids)]\n",
    "hfs_neg_ids = hfs_neg_ids['subject_id'].drop_duplicates().to_list()\n",
    "\n",
    "print(f'Number of non heart failure patients (ICD-9) in database: {len(hfs_neg_ids)}')\n",
    "\n",
    "hfs_neg_ids = random.sample(hfs_neg_ids, num_hfs_neg_patients)\n",
    "\n",
    "print(f'Subsampled patient size: {len(hfs_neg_ids)}')"
   ]
  },
  {
   "cell_type": "markdown",
   "id": "8ce38d5d-6b6b-4642-a645-b5899f39b2c3",
   "metadata": {},
   "source": [
    "#### pids"
   ]
  },
  {
   "cell_type": "code",
   "execution_count": 9,
   "id": "e19931b7-71f6-4417-ad03-4d71235de590",
   "metadata": {},
   "outputs": [],
   "source": [
    "pids = hfs_pos_ids + hfs_neg_ids\n",
    "pids.sort()"
   ]
  },
  {
   "cell_type": "code",
   "execution_count": 10,
   "id": "9b601f0d-3ceb-4dde-8321-e69f597903eb",
   "metadata": {},
   "outputs": [
    {
     "name": "stdout",
     "output_type": "stream",
     "text": [
      "10000635\n"
     ]
    }
   ],
   "source": [
    "print(pids[0])"
   ]
  },
  {
   "cell_type": "code",
   "execution_count": 11,
   "id": "b3e690a8-2967-4c30-b1b8-f516282e0cde",
   "metadata": {},
   "outputs": [],
   "source": [
    "hfs = [0 for _ in range(len(pids))]\n",
    "\n",
    "hfs_pos_set = set(hfs_pos_ids)\n",
    "\n",
    "for i, pid in enumerate(pids):\n",
    "    if pid in hfs_pos_set:\n",
    "        hfs[i] = 1"
   ]
  },
  {
   "cell_type": "code",
   "execution_count": 12,
   "id": "51e02540-d2ea-485b-9665-59dd6e33f09d",
   "metadata": {},
   "outputs": [
    {
     "name": "stdout",
     "output_type": "stream",
     "text": [
      "Number of heart failure patients: 14790 (out of 36975 total)\n"
     ]
    }
   ],
   "source": [
    "# Print number of patients stored as having heart rate failure to validate\n",
    "print(f'Number of heart failure patients: {sum(hfs)} (out of {len(hfs)} total)')"
   ]
  },
  {
   "cell_type": "code",
   "execution_count": 13,
   "id": "66f2b7d5-e62a-4d5f-b2f6-794bacf0571d",
   "metadata": {},
   "outputs": [],
   "source": [
    "pid_index = {}\n",
    "\n",
    "for i, pid in enumerate(pids):\n",
    "    pid_index[pid] = i"
   ]
  },
  {
   "cell_type": "markdown",
   "id": "118deb57-f14c-4e41-83b6-1fa64125a94b",
   "metadata": {},
   "source": [
    "#### Filter non-sampled patients from diagnoses_df"
   ]
  },
  {
   "cell_type": "code",
   "execution_count": 14,
   "id": "3cc5750e-e116-4e09-b0a8-5be10f2ee4fb",
   "metadata": {},
   "outputs": [
    {
     "name": "stdout",
     "output_type": "stream",
     "text": [
      "(1274367, 5)\n"
     ]
    }
   ],
   "source": [
    "diagnoses_df = diagnoses_df[diagnoses_df['subject_id'].isin(pids)]\n",
    "\n",
    "print(diagnoses_df.shape)"
   ]
  },
  {
   "cell_type": "markdown",
   "id": "561966c3-0556-45be-bb5b-8aa77a15e02f",
   "metadata": {},
   "source": [
    "#### vids"
   ]
  },
  {
   "cell_type": "code",
   "execution_count": 15,
   "id": "6e138d32-9d2f-4e03-9199-6438b44e3ab3",
   "metadata": {},
   "outputs": [
    {
     "name": "stdout",
     "output_type": "stream",
     "text": [
      "vids[0]: [26134563]\n",
      "vids[1]: [20032235, 21086876, 28289260]\n",
      "vids[2]: [24947999, 25242409, 26913865, 29654838]\n"
     ]
    }
   ],
   "source": [
    "vids = [[] for _ in range(len(pids))]\n",
    "\n",
    "for index, row in diagnoses_df.iterrows():\n",
    "    vid_index = pid_index[row['subject_id']]\n",
    "    if row['hadm_id'] not in vids[vid_index]:\n",
    "        vids[vid_index].append(row['hadm_id'])\n",
    "\n",
    "print(f'vids[0]: {vids[0]}')\n",
    "print(f'vids[1]: {vids[1]}')\n",
    "print(f'vids[2]: {vids[2]}')"
   ]
  },
  {
   "cell_type": "code",
   "execution_count": 16,
   "id": "28441fc3-fa32-48d8-9ff6-c793c73f196b",
   "metadata": {},
   "outputs": [
    {
     "name": "stdout",
     "output_type": "stream",
     "text": [
      "     subject_id   hadm_id  seq_num icd_code  icd_version\n",
      "86     10000635  26134563        1    42789            9\n",
      "87     10000635  26134563        2    25000            9\n",
      "88     10000635  26134563        3     4019            9\n",
      "113    10000826  20032235        1     5712            9\n",
      "114    10000826  20032235        2      486            9\n",
      "115    10000826  20032235        3    78959            9\n",
      "116    10000826  20032235        4     5723            9\n",
      "117    10000826  20032235        5     5990            9\n",
      "118    10000826  20032235        6     2639            9\n",
      "119    10000826  20032235        7     2761            9\n"
     ]
    }
   ],
   "source": [
    "print(diagnoses_df.head(10))"
   ]
  },
  {
   "cell_type": "markdown",
   "id": "6225e470-6806-4a30-8bd4-b055a3011e64",
   "metadata": {},
   "source": [
    "#### types/rtypes\n",
    "We must create the types/rtypes map(s) first to convert icd_9 values into integers to store in seqs"
   ]
  },
  {
   "cell_type": "code",
   "execution_count": 17,
   "id": "003208c9-5fde-4ec6-a0b0-6525cb7dc3f8",
   "metadata": {},
   "outputs": [],
   "source": [
    "# Create list of all unique icd_code values.\n",
    "\n",
    "icd_codes = sorted(diagnoses_df.icd_code.drop_duplicates().to_list())\n",
    "\n",
    "types = {}\n",
    "rtypes = {}\n",
    "\n",
    "for i, code in enumerate(icd_codes):\n",
    "    types[code] = i\n",
    "    rtypes[i] = code"
   ]
  },
  {
   "cell_type": "markdown",
   "id": "d81db4b7-036a-4fdb-b499-d7275a30c706",
   "metadata": {},
   "source": [
    "#### seqs"
   ]
  },
  {
   "cell_type": "code",
   "execution_count": 18,
   "id": "e94945d8-e00e-4f23-810c-6a379fad929f",
   "metadata": {},
   "outputs": [],
   "source": [
    "seqs = [[[] for _ in range(len(vids[i]))] for i in range(len(pids))]"
   ]
  },
  {
   "cell_type": "code",
   "execution_count": 19,
   "id": "2604abf1-6940-4ebe-b8c9-c1044806aa32",
   "metadata": {},
   "outputs": [],
   "source": [
    "for pid in range(len(seqs)):\n",
    "    for visit_idx in range(len(seqs[pid])):\n",
    "        visit_id = vids[pid][visit_idx]\n",
    "        single_visit_df = diagnoses_df.loc[diagnoses_df['hadm_id'] == visit_id]\n",
    "        icd_codes = single_visit_df.icd_code.to_list()\n",
    "        \n",
    "        icd_labels = [types[code] for code in icd_codes]\n",
    "        \n",
    "        seqs[pid][visit_idx] = icd_labels"
   ]
  },
  {
   "cell_type": "raw",
   "id": "b60c19f3-ebfc-4c15-971c-0b53378fc9ae",
   "metadata": {},
   "source": [
    "#### Used for testing values ####\n",
    "for pid in range(len(seqs)):\n",
    "    if pid > 3:\n",
    "        break\n",
    "        \n",
    "    print(f'PID ({pid}) Visit IDs:')\n",
    "    for visit_idx in range(len(seqs[pid])):\n",
    "        visit_id = vids[pid][visit_idx]\n",
    "        print(f'\\t{visit_id}')\n",
    "        single_visit_df = diagnoses_df.loc[diagnoses_df['hadm_id'] == visit_id]\n",
    "        seqs[pid][visit_idx] = single_visit_df.icd_code.to_list()\n",
    "        print('\\t\\t', seqs[pid][visit_idx])"
   ]
  },
  {
   "cell_type": "code",
   "execution_count": 20,
   "id": "5d07b101-50ee-446e-a0dc-73e5a41ca7f3",
   "metadata": {},
   "outputs": [
    {
     "name": "stdout",
     "output_type": "stream",
     "text": [
      "[3168, 2751, 4921, 3180, 3347, 1027, 1095, 2806, 3167, 1106, 1436, 3111, 1160, 1389]\n",
      "['5712', '486', '78959', '5723', '5990', '2639', '2761', '51189', '5711', '2768', '30391', '56409', '2819', '30000']\n"
     ]
    }
   ],
   "source": [
    "print(seqs[1][0])\n",
    "\n",
    "pat1_visit1_codes = [rtypes[icd_label] for icd_label in seqs[1][0]]\n",
    "print(pat1_visit1_codes)"
   ]
  },
  {
   "cell_type": "markdown",
   "id": "1ec12bf5-dc17-41b2-bdb0-2df16e0df27a",
   "metadata": {},
   "source": [
    "#### Export Dataset to Pickle Files"
   ]
  },
  {
   "cell_type": "code",
   "execution_count": 21,
   "id": "b6c9b907-f336-4755-a374-460f9e1bd17c",
   "metadata": {},
   "outputs": [],
   "source": [
    "import pickle"
   ]
  },
  {
   "cell_type": "code",
   "execution_count": 22,
   "id": "01592c6a-c70f-42f3-8902-97274819f2dc",
   "metadata": {},
   "outputs": [],
   "source": [
    "with open('./mimic-iv-2.2/hosp/high_hfs_pickle_files/pids.pickle', 'wb') as handle:\n",
    "    pickle.dump(pids, handle, protocol=pickle.HIGHEST_PROTOCOL)\n",
    "\n",
    "with open('./mimic-iv-2.2/hosp/high_hfs_pickle_files/vids.pickle', 'wb') as handle:\n",
    "    pickle.dump(vids, handle, protocol=pickle.HIGHEST_PROTOCOL)\n",
    "\n",
    "with open('./mimic-iv-2.2/hosp/high_hfs_pickle_files/hfs.pickle', 'wb') as handle:\n",
    "    pickle.dump(hfs, handle, protocol=pickle.HIGHEST_PROTOCOL)\n",
    "\n",
    "with open('./mimic-iv-2.2/hosp/high_hfs_pickle_files/seqs.pickle', 'wb') as handle:\n",
    "    pickle.dump(seqs, handle, protocol=pickle.HIGHEST_PROTOCOL)\n",
    "\n",
    "with open('./mimic-iv-2.2/hosp/high_hfs_pickle_files/types.pickle', 'wb') as handle:\n",
    "    pickle.dump(types, handle, protocol=pickle.HIGHEST_PROTOCOL)\n",
    "\n",
    "with open('./mimic-iv-2.2/hosp/high_hfs_pickle_files/rtypes.pickle', 'wb') as handle:\n",
    "    pickle.dump(rtypes, handle, protocol=pickle.HIGHEST_PROTOCOL)"
   ]
  },
  {
   "cell_type": "raw",
   "id": "5e89179e-d6c3-4d77-9319-f2b92bcc65a1",
   "metadata": {},
   "source": [
    "### Code for importing .pickle files\n",
    "pids = pickle.load(open(DATA_PATH,'pids.pickle'), 'rb')\n",
    "vids = pickle.load(open(DATA_PATH,'vids.pickle'), 'rb')\n",
    "hfs = pickle.load(open(DATA_PATH,'hfs.pickle'), 'rb')\n",
    "seqs = pickle.load(open(DATA_PATH,'seqs.pickle'), 'rb')\n",
    "types = pickle.load(open(DATA_PATH,'types.pickle'), 'rb')\n",
    "rtypes = pickle.load(open(DATA_PATH,'rtypes.pickle'), 'rb')"
   ]
  }
 ],
 "metadata": {
  "kernelspec": {
   "display_name": "Python 3 (ipykernel)",
   "language": "python",
   "name": "python3"
  },
  "language_info": {
   "codemirror_mode": {
    "name": "ipython",
    "version": 3
   },
   "file_extension": ".py",
   "mimetype": "text/x-python",
   "name": "python",
   "nbconvert_exporter": "python",
   "pygments_lexer": "ipython3",
   "version": "3.11.4"
  }
 },
 "nbformat": 4,
 "nbformat_minor": 5
}
